{
 "cells": [
  {
   "cell_type": "code",
   "execution_count": 516,
   "id": "2c230ccc",
   "metadata": {},
   "outputs": [],
   "source": [
    "from helium import *\n",
    "import time as t\n",
    "import pandas as pd"
   ]
  },
  {
   "cell_type": "code",
   "execution_count": 517,
   "id": "509af227",
   "metadata": {},
   "outputs": [],
   "source": [
    "site_url = \"https://www.mynbme.org/s/login/\"\n",
    "uname = \"kks30@georgetown.edu\"\n",
    "pword = \"C0lor$$@8902\""
   ]
  },
  {
   "cell_type": "code",
   "execution_count": 518,
   "id": "7cde8ae0",
   "metadata": {
    "scrolled": true
   },
   "outputs": [
    {
     "data": {
      "text/plain": [
       "<selenium.webdriver.chrome.webdriver.WebDriver (session=\"bc3e3bea8ace5e519e9c743e9dbcd66c\")>"
      ]
     },
     "execution_count": 518,
     "metadata": {},
     "output_type": "execute_result"
    }
   ],
   "source": [
    "start_chrome(site_url)"
   ]
  },
  {
   "cell_type": "code",
   "execution_count": 519,
   "id": "0e951761",
   "metadata": {},
   "outputs": [],
   "source": [
    "write(uname, into='Email')"
   ]
  },
  {
   "cell_type": "code",
   "execution_count": 520,
   "id": "8d429773",
   "metadata": {},
   "outputs": [],
   "source": [
    "write(pword, into='Password')"
   ]
  },
  {
   "cell_type": "code",
   "execution_count": 521,
   "id": "067d077b",
   "metadata": {},
   "outputs": [],
   "source": [
    "click('Log in')"
   ]
  },
  {
   "cell_type": "code",
   "execution_count": 522,
   "id": "7a0d9d35",
   "metadata": {},
   "outputs": [],
   "source": [
    "click('PURCHASE HISTORY')"
   ]
  },
  {
   "cell_type": "code",
   "execution_count": 523,
   "id": "6b0a13e6",
   "metadata": {},
   "outputs": [],
   "source": [
    "click('O-0001914994')"
   ]
  },
  {
   "cell_type": "code",
   "execution_count": 524,
   "id": "52295e9a",
   "metadata": {},
   "outputs": [],
   "source": [
    "click('R-06306721')"
   ]
  },
  {
   "cell_type": "code",
   "execution_count": 525,
   "id": "4ba2ab32",
   "metadata": {},
   "outputs": [],
   "source": [
    "click(Button('View Your Results Interactively'))"
   ]
  },
  {
   "cell_type": "code",
   "execution_count": 526,
   "id": "68fe2563",
   "metadata": {},
   "outputs": [],
   "source": [
    "click('Review All')"
   ]
  },
  {
   "cell_type": "code",
   "execution_count": 511,
   "id": "d21eb1a6",
   "metadata": {},
   "outputs": [],
   "source": [
    "# driver = get_driver()\n",
    "# content = driver.page_source"
   ]
  },
  {
   "cell_type": "code",
   "execution_count": 512,
   "id": "798be1f7",
   "metadata": {},
   "outputs": [],
   "source": [
    "# driver.switch_to.frame(driver.find_element(By.TAG_NAME, \"iframe\"))\n",
    "# content = driver.find_element(By.TAG_NAME, 'body').text"
   ]
  },
  {
   "cell_type": "code",
   "execution_count": 527,
   "id": "554385f6",
   "metadata": {},
   "outputs": [],
   "source": [
    "quesbank_data = []\n",
    "proceed_flag = True\n",
    "for i in range(200):\n",
    "    i = i+1\n",
    "#     if i%50==0:\n",
    "#         print(quesbank_data)\n",
    "#         proceed_key = input('Want to continue: y or n')\n",
    "#         if proceed_key=='y':\n",
    "#             proceed_flag = True\n",
    "#         else:\n",
    "#             proceed_flag = False\n",
    "    if proceed_flag:\n",
    "        driver = get_driver()\n",
    "        if i != 1:\n",
    "            driver.switch_to.frame(driver.find_element(By.TAG_NAME, \"iframe\"))\n",
    "        content = driver.find_element(By.TAG_NAME, 'body')\n",
    "        imgs = content.find_elements(By.TAG_NAME, 'img')\n",
    "        img_srcs = []\n",
    "        for a in imgs:\n",
    "            img_srcs.append(a.get_attribute('src'))\n",
    "            \n",
    "        body = content.get_attribute('innerHTML')\n",
    "        soup = BeautifulSoup(body, features=\"html.parser\")\n",
    "        text_content = soup.get_text()\n",
    "        quesbank_data.append([text_content, img_srcs])\n",
    "        click(Button('Next'))\n",
    "        t.sleep(3)"
   ]
  },
  {
   "cell_type": "code",
   "execution_count": 528,
   "id": "79facdce",
   "metadata": {},
   "outputs": [],
   "source": [
    "df = pd.DataFrame(quesbank_data, columns=['text_data', 'img_src'])"
   ]
  },
  {
   "cell_type": "code",
   "execution_count": 529,
   "id": "ee25d067",
   "metadata": {},
   "outputs": [],
   "source": [
    "df.to_csv('quesdataset2.csv')"
   ]
  },
  {
   "cell_type": "code",
   "execution_count": null,
   "id": "8d8ae06b",
   "metadata": {},
   "outputs": [],
   "source": []
  },
  {
   "cell_type": "code",
   "execution_count": null,
   "id": "3f3b39a7",
   "metadata": {},
   "outputs": [],
   "source": []
  },
  {
   "cell_type": "code",
   "execution_count": null,
   "id": "087e6606",
   "metadata": {},
   "outputs": [],
   "source": []
  },
  {
   "cell_type": "code",
   "execution_count": null,
   "id": "fa34f9fc",
   "metadata": {},
   "outputs": [],
   "source": []
  },
  {
   "cell_type": "code",
   "execution_count": null,
   "id": "f0495ca1",
   "metadata": {},
   "outputs": [],
   "source": []
  },
  {
   "cell_type": "code",
   "execution_count": 466,
   "id": "f41c91b2",
   "metadata": {},
   "outputs": [],
   "source": [
    "click(Button('Next'))\n",
    "# t.sleep(15)\n",
    "driver = get_driver()"
   ]
  },
  {
   "cell_type": "code",
   "execution_count": 467,
   "id": "2834c5e2",
   "metadata": {},
   "outputs": [],
   "source": [
    "driver.switch_to.frame(driver.find_element(By.TAG_NAME, \"iframe\"))\n",
    "content = driver.find_element(By.TAG_NAME, 'body')\n",
    "imgs = content.find_elements(By.TAG_NAME, 'img')"
   ]
  },
  {
   "cell_type": "code",
   "execution_count": 471,
   "id": "9898c288",
   "metadata": {
    "scrolled": false
   },
   "outputs": [],
   "source": [
    "img_srcs = []\n",
    "for a in imgs:\n",
    "    img_srcs.append(a.get_attribute('src'))"
   ]
  },
  {
   "cell_type": "code",
   "execution_count": 472,
   "id": "e8d81222",
   "metadata": {},
   "outputs": [],
   "source": [
    "body = content.get_attribute('innerHTML')\n",
    "soup = BeautifulSoup(body, features=\"html.parser\")\n",
    "text_content = soup.get_text()"
   ]
  },
  {
   "cell_type": "code",
   "execution_count": null,
   "id": "1a16855e",
   "metadata": {},
   "outputs": [],
   "source": []
  },
  {
   "cell_type": "code",
   "execution_count": 465,
   "id": "0d436506",
   "metadata": {},
   "outputs": [
    {
     "data": {
      "text/plain": [
       "'\\n\\n\\n\\n\\n\\n\\n\\n\\n\\n\\n\\n\\n\\n\\n\\n\\n\\n\\n\\n\\n\\n\\n\\n\\n\\n\\n\\n\\n\\n\\n\\n\\nQuestion 29.This is a read only version of the item. You can only view the question and provide comments. You cannot change the answer. This is a multiple choice question for which you need to select 1 answer from 6 choices.\\n\\n\\n\\n\\n\\n\\n\\n\\n\\n\\n\\n\\n\\n\\n\\n\\n29.\\xa0\\xa0\\n\\nA 25-year-old man is brought to the emergency department because of severe abdominal pain, nausea, and vomiting for\\n\\t\\t\\t  1 hour. The pain originates in the left flank and radiates to his groin. His pulse is 100/min, respirations are 18/min, and blood pressure is\\n\\t\\t\\t  150/100 mm Hg. Physical examination shows tenderness of the left flank and the left lower quadrant of the abdomen. Bowel sounds are mildly hypoactive. Test of the stool for occult blood is negative. Which of the following best explains these findings?\\n\\n\\n\\n\\n\\n\\n\\n'"
      ]
     },
     "execution_count": 465,
     "metadata": {},
     "output_type": "execute_result"
    }
   ],
   "source": [
    "soup.get_text().split('Correct Answer:')[0].split('\\nA\\n')[0]"
   ]
  },
  {
   "cell_type": "code",
   "execution_count": 449,
   "id": "fa830213",
   "metadata": {},
   "outputs": [],
   "source": [
    "processed_text = soup.get_text().split('Correct Answer:')\n",
    "question = [a for a in processed_text[0].split('\\n') if a!='']\n",
    "ans = [a for a in processed_text[1].split('\\n') if a!='']"
   ]
  },
  {
   "cell_type": "code",
   "execution_count": 450,
   "id": "2f1b984a",
   "metadata": {},
   "outputs": [],
   "source": [
    "unwanted_items = ['A', ')\\xa0', 'Strikeout option A', \n",
    "                 'Un-strikeout A option', \n",
    "                  'B',\n",
    " ')\\xa0',\n",
    " 'Option is eliminated.',\n",
    " 'Strikeout option B',\n",
    " 'Un-strikeout B option',\n",
    " 'C',\n",
    " ')\\xa0',\n",
    " 'Strikeout option C',\n",
    " 'Un-strikeout C option',\n",
    " 'D',\n",
    " ')\\xa0',\n",
    " 'Hemophilia A',\n",
    " 'Strikeout option D',\n",
    " 'Un-strikeout D option',\n",
    " 'E',\n",
    " ')\\xa0',\n",
    " 'Strikeout option E',\n",
    " 'Un-strikeout E option',\n",
    " 'F',\n",
    " ')\\xa0',\n",
    " 'Option is eliminated.',\n",
    " 'Strikeout option F',\n",
    " 'Un-strikeout F option',\n",
    " 'G',\n",
    " ')\\xa0',\n",
    " '\\t\\t\\t\\t\\t\\t',\n",
    " '\\t\\t\\t\\t\\t',\n",
    " 'Rationale:',\n",
    " 'Correct Answer: E.',]"
   ]
  },
  {
   "cell_type": "code",
   "execution_count": 455,
   "id": "9af9b6a6",
   "metadata": {},
   "outputs": [
    {
     "name": "stdout",
     "output_type": "stream",
     "text": [
      "A 25-year-old man is brought to the emergency department because of severe abdominal pain, nausea, and vomiting for\n",
      "\n",
      "\n",
      "\n",
      "\t\t\t  1 hour. The pain originates in the left flank and radiates to his groin. His pulse is 100/min, respirations are 18/min, and blood pressure is\n",
      "\n",
      "\n",
      "\n",
      "\t\t\t  150/100 mm Hg. Physical examination shows tenderness of the left flank and the left lower quadrant of the abdomen. Bowel sounds are mildly hypoactive. Test of the stool for occult blood is negative. Which of the following best explains these findings?\n",
      "\n",
      "\n",
      "\n",
      "Colon neoplasm\n",
      "\n",
      "\n",
      "\n",
      "Diverticulitis\n",
      "\n",
      "\n",
      "\n",
      "Epididymitis\n",
      "\n",
      "\n",
      "\n",
      "Renal infarction\n",
      "\n",
      "\n",
      "\n",
      "Torsion of the testis\n",
      "\n",
      "\n",
      "\n",
      "Ureteral calculus\n",
      "\n",
      "\n",
      "\n"
     ]
    }
   ],
   "source": [
    "for a in question[2:]:\n",
    "    if a not in unwanted_items:\n",
    "        print(a)\n",
    "        print('\\n\\n')"
   ]
  },
  {
   "cell_type": "code",
   "execution_count": 452,
   "id": "1037c290",
   "metadata": {},
   "outputs": [],
   "source": [
    "ans_list = []\n",
    "question_list = []\n",
    "for a in ans[2:]:\n",
    "    if a.startswith('Correct Answer'):\n",
    "        ans_list = ans\n",
    "        break\n",
    "    else:\n",
    "        question_list.append(a)"
   ]
  },
  {
   "cell_type": "code",
   "execution_count": 453,
   "id": "18f91d1d",
   "metadata": {},
   "outputs": [
    {
     "data": {
      "text/plain": [
       "['\\t\\t\\t\\t\\t\\t\\t\\t',\n",
       " 'Incorrect Answers: A, B, C, D, and E.',\n",
       " 'Colon neoplasm (Choice A) would be unlikely in an otherwise healthy young patient with no family history of polyposis syndromes and acute, severe, flank pain. It would typically present with insidious weight loss, anemia, constipation, or blood per rectum. In addition, test for stool for occult blood is negative, making this diagnosis unlikely.',\n",
       " '\\t\\t\\t\\t\\t\\t\\t\\t',\n",
       " 'Diverticulitis (Choice B) can present with left lower quadrant abdominal pain and tenderness but would be less abrupt in presentation and typically present with fever, diarrhea, and hyperactive bowel sounds. It would be unlikely to cause flank pain.',\n",
       " '\\t\\t\\t\\t\\t\\t\\t\\t',\n",
       " 'Epididymitis (Choice C) is a common cause of painful scrotal swelling and refers to acute infection and inflammation of the epididymis. In younger males, this is commonly secondary to sexually transmitted infections such as Chlamydia trachomatis or Neisseria gonorrhoeae. In older males, Escherichia coli is more common.\\xa0',\n",
       " '\\t\\t\\t\\t\\t\\t\\t\\t',\n",
       " 'Renal infarction (Choice D) can cause flank pain, nausea, and vomiting, and can be due to thromboembolic disease, renal artery dissection, or a hypercoagulable state. However, it is rare and ureteral calculus is more common and likely in this patient.',\n",
       " '\\t\\t\\t\\t\\t\\t\\t\\t',\n",
       " 'Torsion of the testis (Choice E) occurs when the testicle twists on the spermatic cord resulting in subsequent loss of testicular blood supply. Patients typically present with acute, severe testicular pain, swelling, and erythema. On physical examination, the testicle typically demonstrates an abnormal lie (eg, transverse), extreme tenderness to palpation, absent cremasteric reflex, and pain that does not improve with elevation of the scrotum (as it does in epididymitis).',\n",
       " '\\t\\t\\t\\t\\t\\t\\t\\t',\n",
       " 'Educational Objective: Ureteral calculus typically presents with colicky, unilateral flank pain radiating to the groin, along with gross or microscopic hematuria.',\n",
       " 'Strikeout option F',\n",
       " 'Un-strikeout F option']"
      ]
     },
     "execution_count": 453,
     "metadata": {},
     "output_type": "execute_result"
    }
   ],
   "source": [
    "question_list"
   ]
  },
  {
   "cell_type": "code",
   "execution_count": 454,
   "id": "059ca1dc",
   "metadata": {},
   "outputs": [
    {
     "data": {
      "text/plain": [
       "[]"
      ]
     },
     "execution_count": 454,
     "metadata": {},
     "output_type": "execute_result"
    }
   ],
   "source": [
    "ans_list"
   ]
  },
  {
   "cell_type": "code",
   "execution_count": null,
   "id": "4c0aecba",
   "metadata": {},
   "outputs": [],
   "source": []
  }
 ],
 "metadata": {
  "kernelspec": {
   "display_name": "Python 3 (ipykernel)",
   "language": "python",
   "name": "python3"
  },
  "language_info": {
   "codemirror_mode": {
    "name": "ipython",
    "version": 3
   },
   "file_extension": ".py",
   "mimetype": "text/x-python",
   "name": "python",
   "nbconvert_exporter": "python",
   "pygments_lexer": "ipython3",
   "version": "3.10.0"
  }
 },
 "nbformat": 4,
 "nbformat_minor": 5
}
