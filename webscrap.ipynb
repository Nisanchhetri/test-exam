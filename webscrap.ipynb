{
 "cells": [
  {
   "cell_type": "code",
   "execution_count": 15,
   "id": "e912b477",
   "metadata": {
    "scrolled": true
   },
   "outputs": [
    {
     "name": "stdout",
     "output_type": "stream",
     "text": [
      "Collecting selenium\n",
      "  Downloading selenium-4.6.0-py3-none-any.whl (5.2 MB)\n",
      "\u001b[2K     \u001b[90m━━━━━━━━━━━━━━━━━━━━━━━━━━━━━━━━━━━━━━━━\u001b[0m \u001b[32m5.2/5.2 MB\u001b[0m \u001b[31m9.6 MB/s\u001b[0m eta \u001b[36m0:00:00\u001b[0m:00:01\u001b[0m00:01\u001b[0m\n",
      "\u001b[?25hRequirement already satisfied: urllib3[socks]~=1.26 in /Users/nchhetr/opt/anaconda3/envs/t2i/lib/python3.10/site-packages (from selenium) (1.26.8)\n",
      "Collecting trio-websocket~=0.9\n",
      "  Downloading trio_websocket-0.9.2-py3-none-any.whl (16 kB)\n",
      "Requirement already satisfied: certifi>=2021.10.8 in /Users/nchhetr/opt/anaconda3/envs/t2i/lib/python3.10/site-packages (from selenium) (2021.10.8)\n",
      "Collecting trio~=0.17\n",
      "  Downloading trio-0.22.0-py3-none-any.whl (384 kB)\n",
      "\u001b[2K     \u001b[90m━━━━━━━━━━━━━━━━━━━━━━━━━━━━━━━━━━━━━━━\u001b[0m \u001b[32m384.9/384.9 KB\u001b[0m \u001b[31m7.0 MB/s\u001b[0m eta \u001b[36m0:00:00\u001b[0m00:01\u001b[0m\n",
      "\u001b[?25hCollecting exceptiongroup>=1.0.0rc9\n",
      "  Downloading exceptiongroup-1.0.1-py3-none-any.whl (12 kB)\n",
      "Requirement already satisfied: idna in /Users/nchhetr/opt/anaconda3/envs/t2i/lib/python3.10/site-packages (from trio~=0.17->selenium) (3.3)\n",
      "Collecting sortedcontainers\n",
      "  Downloading sortedcontainers-2.4.0-py2.py3-none-any.whl (29 kB)\n",
      "Requirement already satisfied: attrs>=19.2.0 in /Users/nchhetr/opt/anaconda3/envs/t2i/lib/python3.10/site-packages (from trio~=0.17->selenium) (21.4.0)\n",
      "Collecting async-generator>=1.9\n",
      "  Downloading async_generator-1.10-py3-none-any.whl (18 kB)\n",
      "Collecting outcome\n",
      "  Downloading outcome-1.2.0-py2.py3-none-any.whl (9.7 kB)\n",
      "Collecting sniffio\n",
      "  Downloading sniffio-1.3.0-py3-none-any.whl (10 kB)\n",
      "Collecting wsproto>=0.14\n",
      "  Downloading wsproto-1.2.0-py3-none-any.whl (24 kB)\n",
      "Requirement already satisfied: PySocks!=1.5.7,<2.0,>=1.5.6 in /Users/nchhetr/opt/anaconda3/envs/t2i/lib/python3.10/site-packages (from urllib3[socks]~=1.26->selenium) (1.7.1)\n",
      "Collecting h11<1,>=0.9.0\n",
      "  Downloading h11-0.14.0-py3-none-any.whl (58 kB)\n",
      "\u001b[2K     \u001b[90m━━━━━━━━━━━━━━━━━━━━━━━━━━━━━━━━━━━━━━━━\u001b[0m \u001b[32m58.3/58.3 KB\u001b[0m \u001b[31m2.3 MB/s\u001b[0m eta \u001b[36m0:00:00\u001b[0m\n",
      "\u001b[?25hInstalling collected packages: sortedcontainers, sniffio, outcome, h11, exceptiongroup, async-generator, wsproto, trio, trio-websocket, selenium\n",
      "Successfully installed async-generator-1.10 exceptiongroup-1.0.1 h11-0.14.0 outcome-1.2.0 selenium-4.6.0 sniffio-1.3.0 sortedcontainers-2.4.0 trio-0.22.0 trio-websocket-0.9.2 wsproto-1.2.0\n",
      "\u001b[33mWARNING: You are using pip version 22.0.4; however, version 22.3.1 is available.\n",
      "You should consider upgrading via the '/Users/nchhetr/opt/anaconda3/envs/t2i/bin/python3.10 -m pip install --upgrade pip' command.\u001b[0m\u001b[33m\n",
      "\u001b[0m"
     ]
    }
   ],
   "source": [
    "!pip install selenium"
   ]
  },
  {
   "cell_type": "code",
   "execution_count": 47,
   "id": "5a2dc990",
   "metadata": {},
   "outputs": [
    {
     "name": "stdout",
     "output_type": "stream",
     "text": [
      "Collecting lxml\n",
      "  Downloading lxml-4.9.1.tar.gz (3.4 MB)\n",
      "\u001b[2K     \u001b[90m━━━━━━━━━━━━━━━━━━━━━━━━━━━━━━━━━━━━━━━━\u001b[0m \u001b[32m3.4/3.4 MB\u001b[0m \u001b[31m7.5 MB/s\u001b[0m eta \u001b[36m0:00:00\u001b[0m00:01\u001b[0m00:01\u001b[0mm\n",
      "\u001b[?25h  Preparing metadata (setup.py) ... \u001b[?25ldone\n",
      "\u001b[?25hBuilding wheels for collected packages: lxml\n",
      "  Building wheel for lxml (setup.py) ... \u001b[?25ldone\n",
      "\u001b[?25h  Created wheel for lxml: filename=lxml-4.9.1-cp310-cp310-macosx_10_9_x86_64.whl size=1614951 sha256=b06256e1838df66492180ad20a1982e434cb26c3c821083eec9b1d9033537a48\n",
      "  Stored in directory: /Users/nchhetr/Library/Caches/pip/wheels/a4/ec/7b/8acde6da24b5aabeee049213d5bec12d1e9214d3cae276387b\n",
      "Successfully built lxml\n",
      "Installing collected packages: lxml\n",
      "Successfully installed lxml-4.9.1\n",
      "\u001b[33mWARNING: You are using pip version 22.0.4; however, version 22.3.1 is available.\n",
      "You should consider upgrading via the '/Users/nchhetr/opt/anaconda3/envs/t2i/bin/python3.10 -m pip install --upgrade pip' command.\u001b[0m\u001b[33m\n",
      "\u001b[0m"
     ]
    }
   ],
   "source": [
    "!pip install lxml"
   ]
  },
  {
   "cell_type": "code",
   "execution_count": 1,
   "id": "df1be151",
   "metadata": {},
   "outputs": [],
   "source": [
    "import requests"
   ]
  },
  {
   "cell_type": "code",
   "execution_count": 40,
   "id": "39401b8a",
   "metadata": {},
   "outputs": [],
   "source": [
    "# site_url = \"https://www.mynbme.org/s/login/https://www.mynbme.org/DefaultStore/ccrz__MyAccount?viewState=myOrders&cclcl=en_US#\"\n",
    "site_url = \"https://www.mynbme.org/s/login/\"\n",
    "uname = \"kks30@georgetown.edu\"\n",
    "pword = \"C0lor$$@8902\"\n",
    "r = requests.get(site_url, auth=(uname, pword))"
   ]
  },
  {
   "cell_type": "code",
   "execution_count": 90,
   "id": "618debb4",
   "metadata": {},
   "outputs": [],
   "source": [
    "url1 = \"https://www.starttest.com/ITDVersions/19.3.0.1/ITDStart.aspx?SVC=d8f46fee-4517-4ae5-b912-994f4ea48fb8\""
   ]
  },
  {
   "cell_type": "code",
   "execution_count": 91,
   "id": "fd20cf76",
   "metadata": {},
   "outputs": [],
   "source": [
    "r = requests.get(url1)"
   ]
  },
  {
   "cell_type": "code",
   "execution_count": 93,
   "id": "b4388219",
   "metadata": {},
   "outputs": [
    {
     "data": {
      "text/plain": [
       "'<html>\\r\\n<head>\\r\\n<style>\\r\\nbody\\r\\n{\\r\\nmargin:0px;\\r\\n}\\r\\ntd\\r\\n{\\r\\nfont:bold 10pt arial;\\r\\n}\\r\\na\\r\\n{\\r\\ncolor:#660000;\\r\\n}\\r\\n</style>\\r\\n<script language=\"javascript\">\\r\\nfunction imgOver(theName)\\r\\n{\\r\\ndocument.getElementById(theName).src=\"images/RefreshError/\" + theName + \"_over.gif\"\\r\\n}\\r\\n\\r\\nfunction imgOrig(theName)\\r\\n{\\r\\ndocument.getElementById(theName).src=\"images/RefreshError/\" + theName + \".gif\"\\r\\n}\\r\\n\\r\\nfunction imgDown(theName)\\r\\n{\\r\\ndocument.getElementById(theName).src=\"images/RefreshError/\" + theName + \"_down.gif\"\\r\\n}\\r\\n</script>\\r\\n<script src=\"ITDTranslations.aspx?name=HTMLStartRefresh&type=html\"></script>\\r\\n<script>\\r\\n    function runScript() {\\r\\n        var showBody = true;\\r\\n        var hasSessionStorage = false;\\r\\n        try {\\r\\n            hasSessionStorage = (typeof (window.sessionStorage) != \"undefined\");\\r\\n        }\\r\\n        catch (e) {\\r\\n            hasSessionStorage = false;\\r\\n        }\\r\\n        if (hasSessionStorage) {\\r\\n            var itdTBsd = window.sessionStorage.getItem(\"ITDTBSD\");\\r\\n            if (itdTBsd != null && itdTBsd.length > 0) {\\r\\n\\r\\n                showBody = false;\\r\\n\\r\\n                var startForm = document.forms[\"ITD-START\"];\\r\\n\\r\\n                startForm.ITDTBSD.value = itdTBsd;\\r\\n                startForm.action = \"ITDStart.aspx\"\\r\\n                startForm.submit();\\r\\n            }\\r\\n        }\\r\\n        if (showBody) {\\r\\n            document.body.style.display = \"block\";\\r\\n            document.getElementById(\"startMessage\").innerHTML = HTMLStartRefresh;\\r\\n        }\\r\\n    }\\r\\n</script>\\r\\n</head>\\r\\n<body style=\"margin:0px;\" onload=\"runScript();\" style=\"display:none;\">\\r\\n    <form id=\"ITD-START\" name=\"ITD-START\" method=\"post\" autocomplete=\"off\" target=\"_top\">\\r\\n        <input type=\"hidden\" name=\"\" id=\"ITDTBSD\" value=\"\">\\r\\n    </form>\\r\\n    <table id=\"DISPLAYTABLE\" border=\"0\" cellpadding=\"0\" cellspacing=\"0\" height=\"100%\" width=\"100%\">\\r\\n        <tr>\\r\\n            <td background=\"images/RefreshError/headerbg.gif\" height=\"63\" colspan=\"3\"></td>\\r\\n        </tr>\\r\\n        <tr>\\r\\n            <td colspan=\"3\" height=\"22%\"></td>\\r\\n        </tr>\\r\\n        <tr>\\r\\n            <td></td>\\r\\n            <td height=\"160\" background=\"images/RefreshError/box.gif\" width=\"667\" style=\"background-repeat:no-repeat;background-position-y:50%;background-position:center;\" align=\"center\">\\r\\n                <div id=\"startMessage\" style=\"width:610px;\"></div>\\r\\n            </td>\\r\\n            <td></td>\\r\\n        </tr>\\r\\n        <tr>\\r\\n            <td colspan=\"3\" align=\"center\" valign=\"top\">\\r\\n                <a href=\\'javascript:top.close()\\'>\\r\\n                    <img src=\"images/RefreshError/close.gif\" id=\"close\" width=\"123\" height=\"48\" border=\"0\" onmouseover=\"imgOver(\\'close\\')\" onmousedown=\"imgDown(\\'close\\')\" onmouseup=\"imgOver(\\'close\\')\" onmouseout=\"imgOrig(\\'close\\')\">\\r\\n                </a>\\r\\n            </td>\\r\\n        </tr>\\r\\n        <tr>\\r\\n            <td background=\"images/RefreshError/bottombg.gif\" height=\"63\" colspan=\"3\"></td>\\r\\n        </tr>\\r\\n    </table>\\r\\n</body>\\r\\n</html>\\r\\n\\t\\t\\r\\n'"
      ]
     },
     "execution_count": 93,
     "metadata": {},
     "output_type": "execute_result"
    }
   ],
   "source": [
    "r.text"
   ]
  },
  {
   "cell_type": "code",
   "execution_count": 41,
   "id": "2eb272eb",
   "metadata": {},
   "outputs": [
    {
     "data": {
      "text/plain": [
       "'text/html;charset=UTF-8'"
      ]
     },
     "execution_count": 41,
     "metadata": {},
     "output_type": "execute_result"
    }
   ],
   "source": [
    "r.headers['content-type']"
   ]
  },
  {
   "cell_type": "code",
   "execution_count": 94,
   "id": "bf13e0d6",
   "metadata": {},
   "outputs": [],
   "source": [
    "soup = BeautifulSoup(r.text, 'html.parser')"
   ]
  },
  {
   "cell_type": "code",
   "execution_count": 96,
   "id": "6d5f68a5",
   "metadata": {},
   "outputs": [
    {
     "name": "stdout",
     "output_type": "stream",
     "text": [
      "<html>\n",
      " <head>\n",
      "  <style>\n",
      "   body\r\n",
      "{\r\n",
      "margin:0px;\r\n",
      "}\r\n",
      "td\r\n",
      "{\r\n",
      "font:bold 10pt arial;\r\n",
      "}\r\n",
      "a\r\n",
      "{\r\n",
      "color:#660000;\r\n",
      "}\n",
      "  </style>\n",
      "  <script language=\"javascript\">\n",
      "   function imgOver(theName)\r\n",
      "{\r\n",
      "document.getElementById(theName).src=\"images/RefreshError/\" + theName + \"_over.gif\"\r\n",
      "}\r\n",
      "\r\n",
      "function imgOrig(theName)\r\n",
      "{\r\n",
      "document.getElementById(theName).src=\"images/RefreshError/\" + theName + \".gif\"\r\n",
      "}\r\n",
      "\r\n",
      "function imgDown(theName)\r\n",
      "{\r\n",
      "document.getElementById(theName).src=\"images/RefreshError/\" + theName + \"_down.gif\"\r\n",
      "}\n",
      "  </script>\n",
      "  <script src=\"ITDTranslations.aspx?name=HTMLStartRefresh&amp;type=html\">\n",
      "  </script>\n",
      "  <script>\n",
      "   function runScript() {\r\n",
      "        var showBody = true;\r\n",
      "        var hasSessionStorage = false;\r\n",
      "        try {\r\n",
      "            hasSessionStorage = (typeof (window.sessionStorage) != \"undefined\");\r\n",
      "        }\r\n",
      "        catch (e) {\r\n",
      "            hasSessionStorage = false;\r\n",
      "        }\r\n",
      "        if (hasSessionStorage) {\r\n",
      "            var itdTBsd = window.sessionStorage.getItem(\"ITDTBSD\");\r\n",
      "            if (itdTBsd != null && itdTBsd.length > 0) {\r\n",
      "\r\n",
      "                showBody = false;\r\n",
      "\r\n",
      "                var startForm = document.forms[\"ITD-START\"];\r\n",
      "\r\n",
      "                startForm.ITDTBSD.value = itdTBsd;\r\n",
      "                startForm.action = \"ITDStart.aspx\"\r\n",
      "                startForm.submit();\r\n",
      "            }\r\n",
      "        }\r\n",
      "        if (showBody) {\r\n",
      "            document.body.style.display = \"block\";\r\n",
      "            document.getElementById(\"startMessage\").innerHTML = HTMLStartRefresh;\r\n",
      "        }\r\n",
      "    }\n",
      "  </script>\n",
      " </head>\n",
      " <body onload=\"runScript();\" style=\"display:none;\">\n",
      "  <form autocomplete=\"off\" id=\"ITD-START\" method=\"post\" name=\"ITD-START\" target=\"_top\">\n",
      "   <input id=\"ITDTBSD\" name=\"\" type=\"hidden\" value=\"\"/>\n",
      "  </form>\n",
      "  <table border=\"0\" cellpadding=\"0\" cellspacing=\"0\" height=\"100%\" id=\"DISPLAYTABLE\" width=\"100%\">\n",
      "   <tr>\n",
      "    <td background=\"images/RefreshError/headerbg.gif\" colspan=\"3\" height=\"63\">\n",
      "    </td>\n",
      "   </tr>\n",
      "   <tr>\n",
      "    <td colspan=\"3\" height=\"22%\">\n",
      "    </td>\n",
      "   </tr>\n",
      "   <tr>\n",
      "    <td>\n",
      "    </td>\n",
      "    <td align=\"center\" background=\"images/RefreshError/box.gif\" height=\"160\" style=\"background-repeat:no-repeat;background-position-y:50%;background-position:center;\" width=\"667\">\n",
      "     <div id=\"startMessage\" style=\"width:610px;\">\n",
      "     </div>\n",
      "    </td>\n",
      "    <td>\n",
      "    </td>\n",
      "   </tr>\n",
      "   <tr>\n",
      "    <td align=\"center\" colspan=\"3\" valign=\"top\">\n",
      "     <a href=\"javascript:top.close()\">\n",
      "      <img border=\"0\" height=\"48\" id=\"close\" onmousedown=\"imgDown('close')\" onmouseout=\"imgOrig('close')\" onmouseover=\"imgOver('close')\" onmouseup=\"imgOver('close')\" src=\"images/RefreshError/close.gif\" width=\"123\"/>\n",
      "     </a>\n",
      "    </td>\n",
      "   </tr>\n",
      "   <tr>\n",
      "    <td background=\"images/RefreshError/bottombg.gif\" colspan=\"3\" height=\"63\">\n",
      "    </td>\n",
      "   </tr>\n",
      "  </table>\n",
      " </body>\n",
      "</html>\n",
      "\n"
     ]
    }
   ],
   "source": [
    "print(soup.prettify())"
   ]
  },
  {
   "cell_type": "code",
   "execution_count": 8,
   "id": "86bae9e1",
   "metadata": {},
   "outputs": [
    {
     "data": {
      "text/plain": [
       "'/img/logo214.svg'"
      ]
     },
     "execution_count": 8,
     "metadata": {},
     "output_type": "execute_result"
    }
   ],
   "source": [
    "from bs4 import BeautifulSoup\n",
    "import requests\n",
    "\n",
    "# Start the session\n",
    "session = requests.Session()\n",
    "\n",
    "# Create the payload\n",
    "payload = {'_username':'[kks30@georgetown.edu]', \n",
    "          '_password':'[C0lor$$@8902]'\n",
    "         }\n",
    "\n",
    "# Post the payload to the site to log in\n",
    "s = session.post(site_url, data=payload)\n",
    "\n",
    "next_page = \"https://www.mynbme.org/DefaultStore/ccrz__MyAccount?viewState=myOrders&cclcl=en_US#\"\n",
    "\n",
    "# Navigate to the next page and scrape the data\n",
    "s = session.get(next_page)\n",
    "\n",
    "soup = BeautifulSoup(s.text, 'html.parser')\n",
    "soup.find('img')['src']"
   ]
  },
  {
   "cell_type": "code",
   "execution_count": 17,
   "id": "619f2dd7",
   "metadata": {},
   "outputs": [],
   "source": [
    "from selenium import webdriver\n",
    "# from BeautifulSoup import BeautifulSoup\n",
    "import pandas as pd"
   ]
  },
  {
   "cell_type": "code",
   "execution_count": 20,
   "id": "f82a9ec8",
   "metadata": {},
   "outputs": [],
   "source": [
    "for a in soup.findAll('a',href=True, attrs={'class':'row cc_main_row'}):\n",
    "    print(\"true\")\n",
    "    name=a.find('div', attrs={'class':'_3wU53n'})\n",
    "#     price=a.find('div', attrs={'class':'_1vC4OE _2rQ-NK'})\n",
    "#     rating=a.find('div', attrs={'class':'hGSR34 _2beYZw'})\n",
    "    products.append(name.text)\n",
    "#     prices.append(price.text)\n",
    "#     ratings.append(rating.text) "
   ]
  },
  {
   "cell_type": "code",
   "execution_count": 21,
   "id": "b834bfc6",
   "metadata": {},
   "outputs": [
    {
     "data": {
      "text/plain": [
       "[<a class=\"fr small\" href=\"javascript:void(0);\" id=\"edit\" onclick=\"LoginHint.showEdit();\">Edit List</a>,\n",
       " <a class=\"clearlink\" href=\"javascript:void(0);\" id=\"clear_link\" onclick=\"LoginHint.clearExistingIdentity();\"><img alt=\"Log In with a Different Username\" class=\"clearicon\" src=\"/img/clear.png\"/></a>,\n",
       " <a class=\"fl small\" href=\"https://www.mynbme.org/DefaultStore/secur/forgotpassword.jsp?locale=us&amp;lqs=startURL%3D%252FDefaultStore%252Fccrz__MyAccount%253FviewState%253DmyOrders%2526cclcl%253Den_US&amp;startURL=%2FDefaultStore%2Fccrz__MyAccount%3FviewState%3DmyOrders%26cclcl%3Den_US\" id=\"forgot_password_link\">Forgot Your Password?</a>,\n",
       " <a href=\"javascript:void(0);\" id=\"use_new_identity\" onclick=\"LoginHint.useNewIdentity();\">Log In with a Different Username</a>]"
      ]
     },
     "execution_count": 21,
     "metadata": {},
     "output_type": "execute_result"
    }
   ],
   "source": [
    "soup.findAll('a',href=True)"
   ]
  },
  {
   "cell_type": "code",
   "execution_count": 36,
   "id": "3f0a8f78",
   "metadata": {},
   "outputs": [
    {
     "name": "stdout",
     "output_type": "stream",
     "text": [
      "'\\n'\n",
      "'Login | Examinee Storefront'\n",
      "' '\n",
      "'Examinee Storefront'\n",
      "'Edit List'\n",
      "'Save'\n",
      "'Cancel'\n",
      "'\\n'\n",
      "'\\n'\n",
      "'\\n'\n",
      "'\\n'\n",
      "'\\n'\n",
      "'\\n'\n",
      "'\\n'\n",
      "'\\n'\n",
      "'\\n'\n",
      "'\\n'\n",
      "'\\n'\n",
      "'\\n'\n",
      "'\\n'\n",
      "'\\n'\n",
      "'\\n'\n",
      "'\\n'\n",
      "'\\n'\n",
      "'\\n'\n",
      "'Username'\n",
      "'Password'\n",
      "' Caps Lock is on.'\n",
      "'Remember me'\n",
      "'Forgot Your Password?'\n",
      "\"To go to your company's login page, enter the custom domain name.\"\n",
      "'Custom Domain'\n",
      "'https://'\n",
      "'domain'\n",
      "'.my.salesforce.com'\n",
      "'Continue'\n",
      "'Back'\n",
      "'Log In with a Different Username'\n",
      "'© 2022 salesforce.com. All rights reserved.'\n",
      "'Login'\n",
      "'\\n'\n"
     ]
    }
   ],
   "source": [
    "for string in soup.strings:\n",
    "    print(repr(string))"
   ]
  },
  {
   "cell_type": "code",
   "execution_count": 43,
   "id": "6fb76995",
   "metadata": {},
   "outputs": [],
   "source": [
    "soup1 = BeautifulSoup(r.text, 'html.parser')"
   ]
  },
  {
   "cell_type": "code",
   "execution_count": 44,
   "id": "65ce11e2",
   "metadata": {},
   "outputs": [
    {
     "name": "stdout",
     "output_type": "stream",
     "text": [
      "'\\n'\n",
      "'Login Template Title'\n",
      "'\\n'\n",
      "'\\n'\n",
      "'\\n'\n",
      "'Loading'\n",
      "'×'\n",
      "'Sorry to interrupt'\n",
      "'CSS Error'\n",
      "'Refresh'\n"
     ]
    }
   ],
   "source": [
    "for string in soup1.strings:\n",
    "    print(repr(string))"
   ]
  },
  {
   "cell_type": "code",
   "execution_count": 39,
   "id": "f91a19b0",
   "metadata": {},
   "outputs": [
    {
     "name": "stdout",
     "output_type": "stream",
     "text": [
      "<!DOCTYPE html PUBLIC \"-//W3C//DTD XHTML 1.0 Transitional//EN\" \"http://www.w3.org/TR/xhtml1/DTD/xhtml1-transitional.dtd\">\n",
      "<html lang=\"en-us\" style=\"visibility: visible;\" xml:lang=\"en-us\" xmlns=\"http://www.w3.org/1999/xhtml\">\n",
      " <head>\n",
      "  <meta content=\"initial-scale=1.0\" name=\"viewport\"/>\n",
      "  <meta content=\"Examinee Storefront Customer Secure Login Page. Login to your Examinee Storefront Customer Account.\" name=\"description\"/>\n",
      "  <title>\n",
      "   Login | Examinee Storefront\n",
      "  </title>\n",
      "  <meta content=\"telephone=no\" name=\"format-detection\"/>\n",
      "  <link href=\"/css/sfdc_210.css\" rel=\"stylesheet\" type=\"text/css\"/>\n",
      "  <style type=\"text/css\">\n",
      "   html{visibility: hidden;}a{color:#0070d2;}body{background-color:#B1BAC1;}#content,.container{background-color:#ffffff;}#header{color:#51606E;}#header,#footer{color:#000000;}#signup{color:#000000;}#use_new_identity{color:#000000;text-decoration:underline;}#use_new_identity:hover,#use_new_identity:active{color:#000000;}#or_use_idp,#employee_login{color:#000000;}#cancel_idp,#cancel_idp_hint,#employee_login_link{color:#000000;text-decoration:underline;}#cancel_idp:hover,#cancel_idp:active,#cancel_idp_hint:hover,#cancel_idp_hint:active,#employee_login_link:hover,#employee_login_link:active{color:#000000;}.primary,.primary:hover,.primary:focus{background-color:#1797C0;}.primary{color:#FFFFFF;}.primary{border:#1797C0;}body{display: table; width:100%;}#content{margin-bottom:24px;}#wrap{height:100%;}#right { display: none; }\n",
      "  </style>\n",
      "  <style type=\"text/css\">\n",
      "   html { visibility: hidden; }\n",
      "  </style>\n",
      "  <script type=\"text/javascript\">\n",
      "   if (self == top) {document.documentElement.style.visibility = 'visible';} else {document.write = ''; top.location = self.location; setTimeout(function(){document.body.innerHTML='';}, 1);window.self.onload=function(evt){document.body.innerHTML='';};}\n",
      "  </script>\n",
      "  <script>\n",
      "   var SFDCSessionVars={\"server\":\"https:\\/\\/login.salesforce.com\\/login\\/sessionserver212.html\",\"im\":false,\"ah\":\"active\",\"save\":\"Save\",\"saveOne\":\"Save 1 Change\",\"sum\":\"#p# Saved Usernames\",\"iaac\":false,\"hac\":\"Choose a Username\",\"suo\":\"1 Saved Username\",\"title\":\" | Examinee Storefront\",\"saveMany\":\"Save #p# Changes\",\"lpt\":\"Login\",\"lllbl\":\"Lightning Login\",\"host\":\"login.salesforce.com\",\"le\":false,\"heu\":\"Edit Username List\",\"ic\":true,\"lh\":false,\"ur\":\"https:\\/\\/www.mynbme.org\\/DefaultStore\",\"hidp\":\"Log In Using\",\"ih\":\"inactive\",\"dc\":\"Username removed. Click Save to Commit Changes.\"};\n",
      "  </script>\n",
      "  <script src=\"/DefaultStore/jslibrary/SfdcSessionBase208.js\">\n",
      "  </script>\n",
      "  <script src=\"/DefaultStore/jslibrary/LoginHint208.js\">\n",
      "  </script>\n",
      "  <script>\n",
      "   LoginHint.hideLoginForm();\n",
      "  </script>\n",
      "  <link href=\"https://www.mynbme.org/DefaultStore/login?locale=us\" rel=\"canonical\"/>\n",
      " </head>\n",
      " <body onload=\"lazyload();\">\n",
      "  <div class=\"pr\" id=\"left\">\n",
      "   <div id=\"wrap\">\n",
      "    <div id=\"main\">\n",
      "     <div id=\"wrapper\">\n",
      "      <div class=\"standard_logo_wrapper mb24\" id=\"logo_wrapper\">\n",
      "       <div style=\"height: 100%; display: table-cell; vertical-align: bottom;\">\n",
      "        <img alt=\"Examinee Storefront\" aria-hidden=\"true\" border=\"0\" class=\"standard_logo\" id=\"logo\" name=\"logo\" src=\"/img/logo214.svg\"/>\n",
      "        <span class=\"zen-assistiveText\">\n",
      "         Examinee Storefront\n",
      "        </span>\n",
      "       </div>\n",
      "      </div>\n",
      "      <h2 class=\"mb12\" id=\"header\">\n",
      "      </h2>\n",
      "      <div id=\"content\">\n",
      "       <div id=\"chooser\" style=\"display: none\">\n",
      "        <div class=\"loginError\" id=\"chooser_error\" style=\"display:none;\">\n",
      "        </div>\n",
      "        <div>\n",
      "         <span class=\"label\" id=\"chooser_label\">\n",
      "         </span>\n",
      "         <a class=\"fr small\" href=\"javascript:void(0);\" id=\"edit\" onclick=\"LoginHint.showEdit();\">\n",
      "          Edit List\n",
      "         </a>\n",
      "        </div>\n",
      "        <div class=\"scrollable mt8\">\n",
      "         <ul id=\"idlist\">\n",
      "         </ul>\n",
      "        </div>\n",
      "       </div>\n",
      "       <div id=\"manager\" style=\"display: none\">\n",
      "        <div class=\"nonscrollable mt8\">\n",
      "         <ul aria-live=\"polite\" aria-relevant=\"additions removals\" class=\"mb24\" id=\"editlist\">\n",
      "         </ul>\n",
      "        </div>\n",
      "        <div class=\"mt16\">\n",
      "         <button class=\"button primary fiftyfifty right\" id=\"hint_save_edit\" name=\"Save\" onclick=\"LoginHint.saveHintEdit();\">\n",
      "          Save\n",
      "         </button>\n",
      "         <button class=\"button secondary fiftyfifty\" id=\"hint_back_edit\" name=\"Cancel\" onclick=\"LoginHint.showChooser();\">\n",
      "          Cancel\n",
      "         </button>\n",
      "        </div>\n",
      "       </div>\n",
      "       <div id=\"theloginform\">\n",
      "        <form action=\"https://www.mynbme.org/DefaultStore/login\" id=\"login_form\" method=\"post\" name=\"login\" novalidate=\"novalidate\" onsubmit=\"handleLogin(); return false;\" target=\"_top\">\n",
      "         <input id=\"pqs\" name=\"pqs\" type=\"hidden\" value=\"?startURL=%2FDefaultStore%2Fccrz__MyAccount%3FviewState%3DmyOrders%26cclcl%3Den_US\"/>\n",
      "         <fieldset style=\"display:none\">\n",
      "          <input id=\"un_hfid\" name=\"un\" type=\"hidden\" value=\"\"/>\n",
      "          <input name=\"width\" type=\"hidden\" value=\"\"/>\n",
      "          <input name=\"height\" type=\"hidden\" value=\"\"/>\n",
      "          <input name=\"hasRememberUn\" type=\"hidden\" value=\"true\"/>\n",
      "          <input id=\"login_startUrl\" name=\"startURL\" type=\"hidden\" value=\"/DefaultStore/ccrz__MyAccount?viewState=myOrders&amp;cclcl=en_US\"/>\n",
      "          <input name=\"loginURL\" type=\"hidden\" value=\"\"/>\n",
      "          <input name=\"loginType\" type=\"hidden\" value=\"\"/>\n",
      "          <input name=\"useSecure\" type=\"hidden\" value=\"true\"/>\n",
      "          <input name=\"local\" type=\"hidden\" value=\"\"/>\n",
      "          <input name=\"lt\" type=\"hidden\" value=\"standard\"/>\n",
      "          <input name=\"qs\" type=\"hidden\" value=\"\"/>\n",
      "          <input name=\"locale\" type=\"hidden\" value=\"\"/>\n",
      "          <input name=\"oauth_token\" type=\"hidden\" value=\"\"/>\n",
      "          <input name=\"oauth_callback\" type=\"hidden\" value=\"\"/>\n",
      "          <input name=\"login\" type=\"hidden\" value=\"\"/>\n",
      "          <input name=\"serverid\" type=\"hidden\" value=\"\"/>\n",
      "          <input name=\"display\" type=\"hidden\" value=\"page\"/>\n",
      "         </fieldset>\n",
      "         <div class=\"inputgroup\" id=\"usernamegroup\">\n",
      "          <label class=\"label usernamelabel\" for=\"username\">\n",
      "           Username\n",
      "          </label>\n",
      "          <div id=\"username_container\">\n",
      "           <div class=\"mt8 mb16\" id=\"idcard-container\" style=\"display: none\">\n",
      "            <div id=\"idcard\">\n",
      "             <img alt=\"\" class=\"avatar\" id=\"idcard-avatar\"/>\n",
      "             <a class=\"clearlink\" href=\"javascript:void(0);\" id=\"clear_link\" onclick=\"LoginHint.clearExistingIdentity();\">\n",
      "              <img alt=\"Log In with a Different Username\" class=\"clearicon\" src=\"/img/clear.png\"/>\n",
      "             </a>\n",
      "             <span id=\"idcard-identity\">\n",
      "             </span>\n",
      "            </div>\n",
      "           </div>\n",
      "           <input aria-describedby=\"error\" class=\"input r4 wide mb16 mt8 username\" id=\"username\" name=\"username\" type=\"email\" value=\"\"/>\n",
      "          </div>\n",
      "         </div>\n",
      "         <label class=\"label\" for=\"password\">\n",
      "          Password\n",
      "         </label>\n",
      "         <input autocomplete=\"off\" class=\"input r4 wide mb16 mt8 password\" id=\"password\" name=\"pw\" onkeypress=\"checkCaps(event)\" type=\"password\">\n",
      "          <div class=\"mb16\" id=\"pwcaps\" style=\"display:none\">\n",
      "           <img alt=\"Caps Lock is on.\" id=\"pwcapsicon\" width=\"12\">\n",
      "            Caps Lock is on.\n",
      "           </img>\n",
      "          </div>\n",
      "          <input class=\"button r4 wide primary\" id=\"Login\" name=\"Login\" type=\"submit\" value=\"Log In\"/>\n",
      "          <div class=\"w0 pr ln3 p16 remember\">\n",
      "           <input class=\"r4 fl mr8\" id=\"rememberUn\" name=\"rememberUn\" style=\"\" type=\"checkbox\"/>\n",
      "           <label class=\"fl pr db tn3\" for=\"rememberUn\">\n",
      "            Remember me\n",
      "           </label>\n",
      "           <br/>\n",
      "          </div>\n",
      "         </input>\n",
      "        </form>\n",
      "        <div class=\"w0 links bt pt16 mb20\">\n",
      "         <a class=\"fl small\" href=\"https://www.mynbme.org/DefaultStore/secur/forgotpassword.jsp?locale=us&amp;lqs=startURL%3D%252FDefaultStore%252Fccrz__MyAccount%253FviewState%253DmyOrders%2526cclcl%253Den_US&amp;startURL=%2FDefaultStore%2Fccrz__MyAccount%3FviewState%3DmyOrders%26cclcl%3Den_US\" id=\"forgot_password_link\">\n",
      "          Forgot Your Password?\n",
      "         </a>\n",
      "        </div>\n",
      "       </div>\n",
      "       <div id=\"mydomainContainer\" style=\"display:none;\">\n",
      "        <p class=\"mb16\">\n",
      "         To go to your company's login page, enter the custom domain name.\n",
      "        </p>\n",
      "        <form onsubmit=\"DomainSwitcher.handleMyDomain();return false;\">\n",
      "         <label class=\"label\" for=\"mydomain\">\n",
      "          Custom Domain\n",
      "         </label>\n",
      "         <input class=\"input wide focus mt8 mb16\" id=\"mydomain\" name=\"mydomain\" onkeyup=\"DomainSwitcher.updateMyDomain(this, event);\" type=\"text\">\n",
      "          <div class=\"mb16 wordwrap\" id=\"mydomain_preview\">\n",
      "           https://\n",
      "           <em>\n",
      "            domain\n",
      "           </em>\n",
      "           .my.salesforce.com\n",
      "          </div>\n",
      "         </input>\n",
      "        </form>\n",
      "        <input id=\"mydomain_suffix\" type=\"hidden\" value=\".my.salesforce.com\"/>\n",
      "        <input id=\"community_suffix\" type=\"hidden\" value=\".force.com\"/>\n",
      "        <button class=\"button primary fiftyfifty right\" id=\"mydomainContinue\" name=\"Continue\" onclick=\"DomainSwitcher.handleMyDomain();\">\n",
      "         Continue\n",
      "        </button>\n",
      "        <button class=\"button secondary fiftyfifty\" id=\"hint_back_domain\" onclick=\"DomainSwitcher.dismissCustomDomain('Login',' | Examinee Storefront');\">\n",
      "         Back\n",
      "        </button>\n",
      "       </div>\n",
      "      </div>\n",
      "      <div class=\"tc\" id=\"use_new_identity_div\" style=\"display:none;\">\n",
      "       <a href=\"javascript:void(0);\" id=\"use_new_identity\" onclick=\"LoginHint.useNewIdentity();\">\n",
      "        Log In with a Different Username\n",
      "       </a>\n",
      "      </div>\n",
      "     </div>\n",
      "    </div>\n",
      "   </div>\n",
      "   <div id=\"footer\">\n",
      "    © 2022 salesforce.com. All rights reserved.\n",
      "   </div>\n",
      "  </div>\n",
      "  <div aria-atomic=\"true\" aria-live=\"polite\" class=\"zen-assistiveText\" id=\"assistive-announce\" style=\"width:0px;height:0px;\">\n",
      "   Login\n",
      "  </div>\n",
      "  <script>\n",
      "   LoginHint.getSavedIdentities(false);\n",
      "  </script>\n",
      "  <script src=\"/DefaultStore/jslibrary/baselogin.js\">\n",
      "  </script>\n",
      "  <script src=\"/marketing/survey/survey1/1384\" type=\"text/javascript\">\n",
      "  </script>\n",
      "  <script src=\"/marketing/survey/survey4/1384\" type=\"text/javascript\">\n",
      "  </script>\n",
      "  <script>\n",
      "   function handleLogin(){document.login.un.value=document.login.username.value;document.login.width.value=screen.width;document.login.height.value=screen.height;document.getElementById(\"Login\").disabled=true;document.getElementById(\"login_form\").submit();}function lazyload(){document.getElementById(\"pwcapsicon\").src=\"/img/icon/capslock_blue.png\";}loader();\n",
      "  </script>\n",
      " </body>\n",
      "</html>\n",
      "\n"
     ]
    }
   ],
   "source": [
    "print(soup.prettify())"
   ]
  },
  {
   "cell_type": "code",
   "execution_count": 49,
   "id": "384d6047",
   "metadata": {
    "scrolled": true
   },
   "outputs": [
    {
     "ename": "IndexError",
     "evalue": "list index out of range",
     "output_type": "error",
     "traceback": [
      "\u001b[0;31m---------------------------------------------------------------------------\u001b[0m",
      "\u001b[0;31mIndexError\u001b[0m                                Traceback (most recent call last)",
      "Input \u001b[0;32mIn [49]\u001b[0m, in \u001b[0;36m<cell line: 5>\u001b[0;34m()\u001b[0m\n\u001b[1;32m      6\u001b[0m res \u001b[38;5;241m=\u001b[39m session\u001b[38;5;241m.\u001b[39mget(BASE_URL)\n\u001b[1;32m      8\u001b[0m soup \u001b[38;5;241m=\u001b[39m BeautifulSoup(res\u001b[38;5;241m.\u001b[39mtext)\n\u001b[0;32m----> 9\u001b[0m token \u001b[38;5;241m=\u001b[39m \u001b[43msoup\u001b[49m\u001b[38;5;241;43m.\u001b[39;49m\u001b[43mfind_all\u001b[49m\u001b[43m(\u001b[49m\u001b[38;5;124;43m'\u001b[39;49m\u001b[38;5;124;43minput\u001b[39;49m\u001b[38;5;124;43m'\u001b[39;49m\u001b[43m,\u001b[49m\u001b[43m \u001b[49m\u001b[43mattrs\u001b[49m\u001b[38;5;241;43m=\u001b[39;49m\u001b[43m{\u001b[49m\u001b[38;5;124;43m'\u001b[39;49m\u001b[38;5;124;43mname\u001b[39;49m\u001b[38;5;124;43m'\u001b[39;49m\u001b[43m:\u001b[49m\u001b[43m \u001b[49m\u001b[38;5;124;43m'\u001b[39;49m\u001b[38;5;124;43m__RequestVerificationToken\u001b[39;49m\u001b[38;5;124;43m'\u001b[39;49m\u001b[43m}\u001b[49m\u001b[43m)\u001b[49m\u001b[43m[\u001b[49m\u001b[38;5;241;43m0\u001b[39;49m\u001b[43m]\u001b[49m[\u001b[38;5;124m'\u001b[39m\u001b[38;5;124mvalue\u001b[39m\u001b[38;5;124m'\u001b[39m]\n\u001b[1;32m     10\u001b[0m payload \u001b[38;5;241m=\u001b[39m {\u001b[38;5;124m'\u001b[39m\u001b[38;5;124mUserName\u001b[39m\u001b[38;5;124m'\u001b[39m: uname, \u001b[38;5;124m'\u001b[39m\u001b[38;5;124mPassword\u001b[39m\u001b[38;5;124m'\u001b[39m: pword,\n\u001b[1;32m     11\u001b[0m            \u001b[38;5;124m'\u001b[39m\u001b[38;5;124m__RequestVerificationToken\u001b[39m\u001b[38;5;124m'\u001b[39m: token}\n\u001b[1;32m     13\u001b[0m session\u001b[38;5;241m.\u001b[39mpost(LOGIN_URL , data\u001b[38;5;241m=\u001b[39mpayload)\n",
      "\u001b[0;31mIndexError\u001b[0m: list index out of range"
     ]
    }
   ],
   "source": [
    "BASE_URL = site_url\n",
    "LOGIN_URL = BASE_URL\n",
    "\n",
    "\n",
    "with requests.Session() as session:\n",
    "    res = session.get(BASE_URL)\n",
    "\n",
    "    soup = BeautifulSoup(res.text)\n",
    "    token = soup.find_all('input', attrs={'name': '__RequestVerificationToken'})[0]['value']\n",
    "    payload = {'UserName': uname, 'Password': pword,\n",
    "               '__RequestVerificationToken': token}\n",
    "\n",
    "    session.post(LOGIN_URL , data=payload)\n",
    "    res = session.get(BASE_URL)\n",
    "    print(res.text)"
   ]
  },
  {
   "cell_type": "code",
   "execution_count": 52,
   "id": "594a8799",
   "metadata": {},
   "outputs": [
    {
     "name": "stdout",
     "output_type": "stream",
     "text": [
      "Collecting mechanize\n",
      "  Downloading mechanize-0.4.8-py2.py3-none-any.whl (110 kB)\n",
      "\u001b[2K     \u001b[90m━━━━━━━━━━━━━━━━━━━━━━━━━━━━━━━━━━━━━━━\u001b[0m \u001b[32m110.3/110.3 KB\u001b[0m \u001b[31m1.9 MB/s\u001b[0m eta \u001b[36m0:00:00\u001b[0ma \u001b[36m0:00:01\u001b[0m\n",
      "\u001b[?25hCollecting html5lib>=0.999999999\n",
      "  Downloading html5lib-1.1-py2.py3-none-any.whl (112 kB)\n",
      "\u001b[2K     \u001b[90m━━━━━━━━━━━━━━━━━━━━━━━━━━━━━━━━━━━━━━━\u001b[0m \u001b[32m112.2/112.2 KB\u001b[0m \u001b[31m4.5 MB/s\u001b[0m eta \u001b[36m0:00:00\u001b[0m\n",
      "\u001b[?25hRequirement already satisfied: six>=1.9 in /Users/nchhetr/opt/anaconda3/envs/t2i/lib/python3.10/site-packages (from html5lib>=0.999999999->mechanize) (1.16.0)\n",
      "Requirement already satisfied: webencodings in /Users/nchhetr/opt/anaconda3/envs/t2i/lib/python3.10/site-packages (from html5lib>=0.999999999->mechanize) (0.5.1)\n",
      "Installing collected packages: html5lib, mechanize\n",
      "Successfully installed html5lib-1.1 mechanize-0.4.8\n",
      "\u001b[33mWARNING: You are using pip version 22.0.4; however, version 22.3.1 is available.\n",
      "You should consider upgrading via the '/Users/nchhetr/opt/anaconda3/envs/t2i/bin/python3.10 -m pip install --upgrade pip' command.\u001b[0m\u001b[33m\n",
      "\u001b[0m"
     ]
    }
   ],
   "source": [
    "!pip install mechanize"
   ]
  },
  {
   "cell_type": "code",
   "execution_count": 53,
   "id": "0a0cfd6a",
   "metadata": {},
   "outputs": [
    {
     "name": "stdout",
     "output_type": "stream",
     "text": [
      "Collecting html2text\n",
      "  Downloading html2text-2020.1.16-py3-none-any.whl (32 kB)\n",
      "Installing collected packages: html2text\n",
      "Successfully installed html2text-2020.1.16\n",
      "\u001b[33mWARNING: You are using pip version 22.0.4; however, version 22.3.1 is available.\n",
      "You should consider upgrading via the '/Users/nchhetr/opt/anaconda3/envs/t2i/bin/python3.10 -m pip install --upgrade pip' command.\u001b[0m\u001b[33m\n",
      "\u001b[0m"
     ]
    }
   ],
   "source": [
    "!pip install html2text"
   ]
  },
  {
   "cell_type": "code",
   "execution_count": 54,
   "id": "cc6b9eb5",
   "metadata": {},
   "outputs": [
    {
     "name": "stdout",
     "output_type": "stream",
     "text": [
      "\u001b[31mERROR: Could not find a version that satisfies the requirement cookielib (from versions: none)\u001b[0m\u001b[31m\n",
      "\u001b[0m\u001b[31mERROR: No matching distribution found for cookielib\u001b[0m\u001b[31m\n",
      "\u001b[0m\u001b[33mWARNING: You are using pip version 22.0.4; however, version 22.3.1 is available.\n",
      "You should consider upgrading via the '/Users/nchhetr/opt/anaconda3/envs/t2i/bin/python3.10 -m pip install --upgrade pip' command.\u001b[0m\u001b[33m\n",
      "\u001b[0m"
     ]
    }
   ],
   "source": [
    "!pip install cookielib"
   ]
  },
  {
   "cell_type": "code",
   "execution_count": 71,
   "id": "deb3b3e4",
   "metadata": {},
   "outputs": [],
   "source": [
    "# import mechanize\n",
    "# import http.cookiejar as cookielib\n",
    "# # from BeautifulSoup import BeautifulSoup\n",
    "# import html2text\n",
    "\n",
    "# # Browser\n",
    "# br = mechanize.Browser()\n",
    "\n",
    "# # Cookie Jar\n",
    "# # cj = cookielib.LWPC \n",
    "\n",
    "# # Browser options\n",
    "# br.set_handle_equiv(True)\n",
    "# br.set_handle_gzip(True)\n",
    "# br.set_handle_redirect(True)\n",
    "# br.set_handle_referer(True)\n",
    "# br.set_handle_robots(False)\n",
    "# br.set_handle_refresh(mechanize._http.HTTPRefreshProcessor(), max_time=1)\n",
    "\n",
    "# br.addheaders = [('User-agent', 'Chrome')]\n",
    "\n",
    "# # The site we will navigate into, handling it's session\n",
    "# br.open(site_url)\n",
    "\n",
    "# # View available forms\n",
    "# for f in br.forms():\n",
    "#     print(f)\n",
    "\n",
    "# # Select the second (index one) form (the first form is a search query box)\n",
    "# # br.select_form(nr=1)\n",
    "\n",
    "# # User credentials\n",
    "# br.form['login'] = uname\n",
    "# br.form['password'] = pword\n",
    "\n",
    "# # Login\n",
    "# br.submit()\n",
    "\n",
    "# # print(br.open('https://github.com/settings/emails').read())"
   ]
  },
  {
   "cell_type": "code",
   "execution_count": 73,
   "id": "be48abed",
   "metadata": {},
   "outputs": [
    {
     "name": "stdout",
     "output_type": "stream",
     "text": [
      "\u001b[31mERROR: Could not find a version that satisfies the requirement urllib2 (from versions: none)\u001b[0m\u001b[31m\n",
      "\u001b[0m\u001b[31mERROR: No matching distribution found for urllib2\u001b[0m\u001b[31m\n",
      "\u001b[0m\u001b[33mWARNING: You are using pip version 22.0.4; however, version 22.3.1 is available.\n",
      "You should consider upgrading via the '/Users/nchhetr/opt/anaconda3/envs/t2i/bin/python3.10 -m pip install --upgrade pip' command.\u001b[0m\u001b[33m\n",
      "\u001b[0m"
     ]
    }
   ],
   "source": [
    "!pip install urllib2"
   ]
  },
  {
   "cell_type": "code",
   "execution_count": 75,
   "id": "1bd5fd08",
   "metadata": {},
   "outputs": [
    {
     "data": {
      "text/plain": [
       "<response_seek_wrapper at 0x7fb739dd9720 whose wrapped object = <closeable_response at 0x7fb739df3af0 whose fp = <_io.BufferedReader name=93>>>"
      ]
     },
     "execution_count": 75,
     "metadata": {},
     "output_type": "execute_result"
    }
   ],
   "source": [
    "import mechanize\n",
    "from bs4 import BeautifulSoup\n",
    "# import urllib2 \n",
    "import http.cookiejar as cookielib\n",
    "\n",
    "cj = cookielib.CookieJar()\n",
    "br = mechanize.Browser()\n",
    "br.set_cookiejar(cj)\n",
    "br.open(site_url)"
   ]
  },
  {
   "cell_type": "code",
   "execution_count": 78,
   "id": "89054959",
   "metadata": {},
   "outputs": [],
   "source": [
    "for f in br.forms():\n",
    "    print(f)"
   ]
  },
  {
   "cell_type": "code",
   "execution_count": 80,
   "id": "4f25296e",
   "metadata": {},
   "outputs": [],
   "source": [
    "import os\n",
    "\n",
    "import requests\n",
    "\n",
    "# CookieConsentPolicy=0:1; = os.getenv('CookieConsentPolicy=0:1;')\n",
    "\n",
    "cookies = {\n",
    "    'renderCtx': '%7B%22pageId%22%3A%2221a89b6d-e0c9-443b-a0fa-b24ccae3985e%22%2C%22schema%22%3A%22Published%22%2C%22viewType%22%3A%22Published%22%2C%22brandingSetId%22%3A%2245b2512a-7b27-489f-9786-250d9d121151%22%2C%22audienceIds%22%3A%22%22%7D',\n",
    "    'CookieConsentPolicy': '0:1',\n",
    "    'LSKey-c$CookieConsentPolicy': '0:1',\n",
    "    'sfdc-stream': '!LFl8EqGzwyD7DkE2r7ACkFiF9PevZyfxvCEHkgCNCVzGVFiHfCPHDI6yxRlh0vJZ8FbLbIiQ1U7gwQ==',\n",
    "    'oinfo': 'c3RhdHVzPUFDVElWRSZ0eXBlPTYmb2lkPTAwRDQ2MDAwMDAwcGZCZw==',\n",
    "    'autocomplete': '1',\n",
    "    'oid': '00D46000000pfBg',\n",
    "    'apex__cclgtkn': '',\n",
    "    'pctrk': 'f7b05b64-6487-4c7b-8f48-962b556594dc',\n",
    "    'sid': '00D46000000pfBg!ARoAQEeH.CQLqesa_YYed7lKgkBoVe.tVKIZFyK2Jf8uTHPfcU831fF9wzjosjwBi_wrdrHHQyjlwKMvksNdh2wFKW9EcgLh',\n",
    "    'sid_Client': 'w00000ALAg46000000pfBg',\n",
    "    'clientSrc': '136.54.56.186',\n",
    "    'inst': 'APP_4w',\n",
    "}\n",
    "\n",
    "headers = {\n",
    "    'Accept': 'text/html,application/xhtml+xml,application/xml;q=0.9,image/avif,image/webp,image/apng,*/*;q=0.8',\n",
    "    'Accept-Language': 'en-US,en;q=0.9',\n",
    "    'Connection': 'keep-alive',\n",
    "    # Requests sorts cookies= alphabetically\n",
    "    # 'Cookie': f\"renderCtx=%7B%22pageId%22%3A%2221a89b6d-e0c9-443b-a0fa-b24ccae3985e%22%2C%22schema%22%3A%22Published%22%2C%22viewType%22%3A%22Published%22%2C%22brandingSetId%22%3A%2245b2512a-7b27-489f-9786-250d9d121151%22%2C%22audienceIds%22%3A%22%22%7D; CookieConsentPolicy=0:1; LSKey-c{CookieConsentPolicy=0:1;} sfdc-stream=!LFl8EqGzwyD7DkE2r7ACkFiF9PevZyfxvCEHkgCNCVzGVFiHfCPHDI6yxRlh0vJZ8FbLbIiQ1U7gwQ==; oinfo=c3RhdHVzPUFDVElWRSZ0eXBlPTYmb2lkPTAwRDQ2MDAwMDAwcGZCZw==; autocomplete=1; oid=00D46000000pfBg; apex__cclgtkn=; pctrk=f7b05b64-6487-4c7b-8f48-962b556594dc; sid=00D46000000pfBg!ARoAQEeH.CQLqesa_YYed7lKgkBoVe.tVKIZFyK2Jf8uTHPfcU831fF9wzjosjwBi_wrdrHHQyjlwKMvksNdh2wFKW9EcgLh; sid_Client=w00000ALAg46000000pfBg; clientSrc=136.54.56.186; inst=APP_4w\",\n",
    "    'Referer': 'https://www.mynbme.org/apex/CommunitiesLanding',\n",
    "    'Sec-Fetch-Dest': 'document',\n",
    "    'Sec-Fetch-Mode': 'navigate',\n",
    "    'Sec-Fetch-Site': 'same-origin',\n",
    "    'Sec-GPC': '1',\n",
    "    'Upgrade-Insecure-Requests': '1',\n",
    "    'User-Agent': 'Mozilla/5.0 (Macintosh; Intel Mac OS X 10_15_7) AppleWebKit/537.36 (KHTML, like Gecko) Chrome/107.0.0.0 Safari/537.36',\n",
    "}\n",
    "\n",
    "response = requests.get('https://www.mynbme.org/s/', cookies=cookies, headers=headers)"
   ]
  },
  {
   "cell_type": "code",
   "execution_count": 88,
   "id": "1028fb13",
   "metadata": {},
   "outputs": [],
   "source": [
    "soup = BeautifulSoup(response.content, 'html.parser')"
   ]
  },
  {
   "cell_type": "code",
   "execution_count": 89,
   "id": "e3f3ad84",
   "metadata": {},
   "outputs": [
    {
     "name": "stdout",
     "output_type": "stream",
     "text": [
      "'\\n'\n",
      "'Examinee Community'\n",
      "'\\n'\n",
      "'\\n'\n",
      "'\\n'\n",
      "'Loading'\n",
      "'×'\n",
      "'Sorry to interrupt'\n",
      "'CSS Error'\n",
      "'Refresh'\n"
     ]
    }
   ],
   "source": [
    "for string in soup.strings:\n",
    "    print(repr(string))"
   ]
  },
  {
   "cell_type": "code",
   "execution_count": null,
   "id": "b12d06ae",
   "metadata": {},
   "outputs": [],
   "source": []
  }
 ],
 "metadata": {
  "kernelspec": {
   "display_name": "Python 3 (ipykernel)",
   "language": "python",
   "name": "python3"
  },
  "language_info": {
   "codemirror_mode": {
    "name": "ipython",
    "version": 3
   },
   "file_extension": ".py",
   "mimetype": "text/x-python",
   "name": "python",
   "nbconvert_exporter": "python",
   "pygments_lexer": "ipython3",
   "version": "3.10.0"
  }
 },
 "nbformat": 4,
 "nbformat_minor": 5
}
