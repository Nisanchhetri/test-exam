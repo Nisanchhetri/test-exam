{
 "cells": [
  {
   "cell_type": "code",
   "execution_count": 380,
   "id": "842106aa",
   "metadata": {},
   "outputs": [],
   "source": [
    "from helium import *\n",
    "import time as t"
   ]
  },
  {
   "cell_type": "code",
   "execution_count": 381,
   "id": "41af3ccf",
   "metadata": {},
   "outputs": [],
   "source": [
    "site_url = \"https://www.mynbme.org/s/login/\"\n",
    "uname = \"kks30@georgetown.edu\"\n",
    "pword = \"C0lor$$@8902\""
   ]
  },
  {
   "cell_type": "code",
   "execution_count": 382,
   "id": "f7ec83c3",
   "metadata": {
    "scrolled": true
   },
   "outputs": [
    {
     "data": {
      "text/plain": [
       "<selenium.webdriver.chrome.webdriver.WebDriver (session=\"5f307797d8934bd961a7f7d31b46aa6a\")>"
      ]
     },
     "execution_count": 382,
     "metadata": {},
     "output_type": "execute_result"
    }
   ],
   "source": [
    "start_chrome(site_url)"
   ]
  },
  {
   "cell_type": "code",
   "execution_count": 383,
   "id": "a0a708f9",
   "metadata": {},
   "outputs": [],
   "source": [
    "write(uname, into='Email')"
   ]
  },
  {
   "cell_type": "code",
   "execution_count": 384,
   "id": "3e4224fe",
   "metadata": {},
   "outputs": [],
   "source": [
    "write(pword, into='Password')"
   ]
  },
  {
   "cell_type": "code",
   "execution_count": 385,
   "id": "2da8e7de",
   "metadata": {},
   "outputs": [],
   "source": [
    "click('Log in')"
   ]
  },
  {
   "cell_type": "code",
   "execution_count": 386,
   "id": "08f7580e",
   "metadata": {},
   "outputs": [],
   "source": [
    "click('PURCHASE HISTORY')"
   ]
  },
  {
   "cell_type": "code",
   "execution_count": 387,
   "id": "014d1893",
   "metadata": {},
   "outputs": [],
   "source": [
    "click('O-0001938290')"
   ]
  },
  {
   "cell_type": "code",
   "execution_count": 388,
   "id": "039df492",
   "metadata": {},
   "outputs": [],
   "source": [
    "click('R-06402278')"
   ]
  },
  {
   "cell_type": "code",
   "execution_count": 389,
   "id": "f7d4152c",
   "metadata": {},
   "outputs": [],
   "source": [
    "click(Button('View Your Results Interactively'))"
   ]
  },
  {
   "cell_type": "code",
   "execution_count": 390,
   "id": "2f2be456",
   "metadata": {},
   "outputs": [],
   "source": [
    "click('Review Incorrect')"
   ]
  },
  {
   "cell_type": "code",
   "execution_count": 393,
   "id": "1046e3eb",
   "metadata": {},
   "outputs": [],
   "source": [
    "driver = get_driver()\n",
    "content = driver.page_source"
   ]
  },
  {
   "cell_type": "code",
   "execution_count": 395,
   "id": "67d8dcc7",
   "metadata": {},
   "outputs": [],
   "source": [
    "# driver.switch_to.frame(driver.find_element(By.TAG_NAME, \"iframe\"))\n",
    "content = driver.find_element(By.TAG_NAME, 'body').text"
   ]
  },
  {
   "cell_type": "code",
   "execution_count": 438,
   "id": "d0d3bc1f",
   "metadata": {},
   "outputs": [],
   "source": [
    "click(Button('Next'))\n",
    "# t.sleep(15)\n",
    "driver = get_driver()"
   ]
  },
  {
   "cell_type": "code",
   "execution_count": 439,
   "id": "531d0242",
   "metadata": {},
   "outputs": [],
   "source": [
    "driver.switch_to.frame(driver.find_element(By.TAG_NAME, \"iframe\"))\n",
    "content = driver.find_element(By.TAG_NAME, 'body')\n",
    "imgs = content.find_elements(By.TAG_NAME, 'img')"
   ]
  },
  {
   "cell_type": "code",
   "execution_count": 440,
   "id": "2d835349",
   "metadata": {
    "scrolled": false
   },
   "outputs": [
    {
     "name": "stdout",
     "output_type": "stream",
     "text": [
      "https://www.starttest.com/ITDVersions/19.3.0.1/itdmedia.aspx?data=30&AUC=1&cv=2&programid=30&language=ENU&urid=NBMEFramelessReplacementUIv1/checkmark.gif\n",
      "https://www.starttest.com/ITDVersions/19.3.0.1/itdmedia.aspx?data=30&AUC=1&cv=2&programid=30&language=ENU&urid=NBMEFramelessReplacementUIv1/error2.gif\n",
      "https://www.starttest.com/ITDVersions/19.3.0.1/itdmedia.aspx?data=MTA4NTg0ODc4NSwxOS4zLjAuMSwxNDI3NDc4OCwzMCwyMDA5LEVOVSxFN0MyOTAzRS02QjNDLTRDMUUtOEU0My1EOTMxMDk1RDQ1OUEsLDMyLDAsMCwsLDIsMSxlZGdlLDA%3d-ooFRiR3TgS4%3d&cv=2&programid=30&language=ENU&urid=NBMEFramelessReplacementUIv1/strikeout-icon-default.png\n",
      "https://www.starttest.com/ITDVersions/19.3.0.1/itdmedia.aspx?data=MTA4NTg0ODc4NSwxOS4zLjAuMSwxNDI3NDc4OCwzMCwyMDA5LEVOVSxFN0MyOTAzRS02QjNDLTRDMUUtOEU0My1EOTMxMDk1RDQ1OUEsLDMyLDAsMCwsLDIsMSxlZGdlLDA%3d-ooFRiR3TgS4%3d&cv=2&programid=30&language=ENU&urid=NBMEFramelessReplacementUIv1/strikeout-icon-restore.png\n",
      "https://www.starttest.com/ITDVersions/19.3.0.1/itdmedia.aspx?data=MTA4NTg0ODc4NSwxOS4zLjAuMSwxNDI3NDc4OCwzMCwyMDA5LEVOVSxFN0MyOTAzRS02QjNDLTRDMUUtOEU0My1EOTMxMDk1RDQ1OUEsLDMyLDAsMCwsLDIsMSxlZGdlLDA%3d-ooFRiR3TgS4%3d&cv=2&programid=30&language=ENU&urid=NBMEFramelessReplacementUIv1/strikeout-icon-default.png\n",
      "https://www.starttest.com/ITDVersions/19.3.0.1/itdmedia.aspx?data=MTA4NTg0ODc4NSwxOS4zLjAuMSwxNDI3NDc4OCwzMCwyMDA5LEVOVSxFN0MyOTAzRS02QjNDLTRDMUUtOEU0My1EOTMxMDk1RDQ1OUEsLDMyLDAsMCwsLDIsMSxlZGdlLDA%3d-ooFRiR3TgS4%3d&cv=2&programid=30&language=ENU&urid=NBMEFramelessReplacementUIv1/strikeout-icon-restore.png\n",
      "https://www.starttest.com/ITDVersions/19.3.0.1/itdmedia.aspx?data=MTA4NTg0ODc4NSwxOS4zLjAuMSwxNDI3NDc4OCwzMCwyMDA5LEVOVSxFN0MyOTAzRS02QjNDLTRDMUUtOEU0My1EOTMxMDk1RDQ1OUEsLDMyLDAsMCwsLDIsMSxlZGdlLDA%3d-ooFRiR3TgS4%3d&cv=2&programid=30&language=ENU&urid=NBMEFramelessReplacementUIv1/strikeout-icon-default.png\n",
      "https://www.starttest.com/ITDVersions/19.3.0.1/itdmedia.aspx?data=MTA4NTg0ODc4NSwxOS4zLjAuMSwxNDI3NDc4OCwzMCwyMDA5LEVOVSxFN0MyOTAzRS02QjNDLTRDMUUtOEU0My1EOTMxMDk1RDQ1OUEsLDMyLDAsMCwsLDIsMSxlZGdlLDA%3d-ooFRiR3TgS4%3d&cv=2&programid=30&language=ENU&urid=NBMEFramelessReplacementUIv1/strikeout-icon-restore.png\n",
      "https://www.starttest.com/ITDVersions/19.3.0.1/itdmedia.aspx?data=MTA4NTg0ODc4NSwxOS4zLjAuMSwxNDI3NDc4OCwzMCwyMDA5LEVOVSxFN0MyOTAzRS02QjNDLTRDMUUtOEU0My1EOTMxMDk1RDQ1OUEsLDMyLDAsMCwsLDIsMSxlZGdlLDA%3d-ooFRiR3TgS4%3d&cv=2&programid=30&language=ENU&urid=NBMEFramelessReplacementUIv1/strikeout-icon-default.png\n",
      "https://www.starttest.com/ITDVersions/19.3.0.1/itdmedia.aspx?data=MTA4NTg0ODc4NSwxOS4zLjAuMSwxNDI3NDc4OCwzMCwyMDA5LEVOVSxFN0MyOTAzRS02QjNDLTRDMUUtOEU0My1EOTMxMDk1RDQ1OUEsLDMyLDAsMCwsLDIsMSxlZGdlLDA%3d-ooFRiR3TgS4%3d&cv=2&programid=30&language=ENU&urid=NBMEFramelessReplacementUIv1/strikeout-icon-restore.png\n",
      "https://www.starttest.com/ITDVersions/19.3.0.1/itdmedia.aspx?data=MTA4NTg0ODc4NSwxOS4zLjAuMSwxNDI3NDc4OCwzMCwyMDA5LEVOVSxFN0MyOTAzRS02QjNDLTRDMUUtOEU0My1EOTMxMDk1RDQ1OUEsLDMyLDAsMCwsLDIsMSxlZGdlLDA%3d-ooFRiR3TgS4%3d&cv=2&programid=30&language=ENU&urid=NBMEFramelessReplacementUIv1/strikeout-icon-default.png\n",
      "https://www.starttest.com/ITDVersions/19.3.0.1/itdmedia.aspx?data=MTA4NTg0ODc4NSwxOS4zLjAuMSwxNDI3NDc4OCwzMCwyMDA5LEVOVSxFN0MyOTAzRS02QjNDLTRDMUUtOEU0My1EOTMxMDk1RDQ1OUEsLDMyLDAsMCwsLDIsMSxlZGdlLDA%3d-ooFRiR3TgS4%3d&cv=2&programid=30&language=ENU&urid=NBMEFramelessReplacementUIv1/strikeout-icon-restore.png\n",
      "https://www.starttest.com/ITDVersions/19.3.0.1/itdmedia.aspx?data=MTA4NTg0ODc4NSwxOS4zLjAuMSwxNDI3NDc4OCwzMCwyMDA5LEVOVSxFN0MyOTAzRS02QjNDLTRDMUUtOEU0My1EOTMxMDk1RDQ1OUEsLDMyLDAsMCwsLDIsMSxlZGdlLDA%3d-ooFRiR3TgS4%3d&cv=2&programid=30&language=ENU&urid=NBMEFramelessReplacementUIv1/strikeout-icon-default.png\n",
      "https://www.starttest.com/ITDVersions/19.3.0.1/itdmedia.aspx?data=MTA4NTg0ODc4NSwxOS4zLjAuMSwxNDI3NDc4OCwzMCwyMDA5LEVOVSxFN0MyOTAzRS02QjNDLTRDMUUtOEU0My1EOTMxMDk1RDQ1OUEsLDMyLDAsMCwsLDIsMSxlZGdlLDA%3d-ooFRiR3TgS4%3d&cv=2&programid=30&language=ENU&urid=NBMEFramelessReplacementUIv1/strikeout-icon-restore.png\n"
     ]
    }
   ],
   "source": [
    "for a in imgs:\n",
    "    print(a.get_attribute('src'))"
   ]
  },
  {
   "cell_type": "code",
   "execution_count": 437,
   "id": "2ff8be32",
   "metadata": {},
   "outputs": [
    {
     "name": "stdout",
     "output_type": "stream",
     "text": [
      "Question 27.This is a read only version of the item. You can only view the question and provide comments. You cannot change the answer. This is a multiple choice question for which you need to select 1 answer from 5 choices.27.  Moving the forearm against resistance from palm-down to palm-up (supination) position requires the use of which of the following muscles?A) Biceps brachiiStrikeout option AUn-strikeout A optionB) BrachialisStrikeout option BUn-strikeout B optionC) TricepsStrikeout option CUn-strikeout C optionD) Flexor carpi radialisStrikeout option DUn-strikeout D optionE) Pronator teres\t\t\t\t\t  Rationale:Correct Answer: A. The biceps brachii muscle has two main actions, flexion of the elbow joint and supination of the forearm. The biceps brachii contains two proximal heads, with the short head attaching to the coracoid process of the scapula and the long head entering the shoulder joint and attaching to the supraglenoid tubercle. The distal biceps tendon inserts on the bicipital tuberosity of the proximal radius. Because of its orientation crossing the elbow joint, contraction of this muscle causes elbow flexion. Its eccentric insertion on the proximal radius allows for it to wind around the radius during pronation and unwind when contracted from around the proximal radius during supination. Incorrect Answers: B, C, D and E. The brachialis muscle (Choice B) originates on the anterior surface of the humerus and crosses the elbow inserting on the tuberosity of the ulna. It does not wrap around the ulna and the ulna does not rotate. Because of this, it does not contribute to supination or pronation. The triceps muscle (Choice C) serves to extend the elbow joint. Proximally, it originates from the infraglenoid tubercle of the scapula (long head), just proximal to the radial groove (lateral head), and just distal to the radial groove (medial head). Distally, it inserts on the olecranon process of the ulna. Contraction of this muscle extends the elbow and does not contribute to rotation.\t\t\t   Flexor carpi radialis (Choice D) originates on the medial epicondyle of the humerus and inserts on the second and third metacarpal bones. This allows for flexion of the wrist. Pronator teres (Choice E) is a muscle of the proximal forearm that extends from the medial supracondylar ridge of the humerus and inserts on the lateral aspect of the radius. Contraction along this axis will promote pronation, not supination. Educational Objective: The biceps brachii muscle has two main functions. It serves to supinate the forearm through its winding mechanism around the proximal radius and bicipital tuberosity. It flexes the elbow as the muscle and tendon cross the elbow joint anteriorly.Strikeout option EUn-strikeout E option\n"
     ]
    }
   ],
   "source": [
    "body = content.get_attribute('innerHTML')\n",
    "soup = BeautifulSoup(body, features=\"html.parser\")\n",
    "print(soup.get_text().replace('\\n', ''))"
   ]
  },
  {
   "cell_type": "code",
   "execution_count": 257,
   "id": "3d86b3f7",
   "metadata": {},
   "outputs": [],
   "source": [
    "import json"
   ]
  },
  {
   "cell_type": "code",
   "execution_count": 258,
   "id": "3475c10b",
   "metadata": {},
   "outputs": [],
   "source": [
    "from bs4 import BeautifulSoup"
   ]
  },
  {
   "cell_type": "code",
   "execution_count": 378,
   "id": "651492c3",
   "metadata": {},
   "outputs": [],
   "source": [
    "click(Button('Next'))\n",
    "t.sleep(15)\n",
    "driver = get_driver()\n",
    "t.sleep(15)\n",
    "content = driver.page_source\n",
    "soup = BeautifulSoup(content, features=\"html.parser\")"
   ]
  },
  {
   "cell_type": "code",
   "execution_count": 379,
   "id": "b09da93c",
   "metadata": {
    "scrolled": true
   },
   "outputs": [
    {
     "data": {
      "text/plain": [
       "'Comprehensive Basic Science Self-AssessmentSkip to mainSkip to navigationExam Section 1: Item 16 of 50National Board of Medical Examiners®Time Remaining:✓MarkComprehensive Basic Science Self-AssessmentEndEndEnd BreakSkip TutorialNoYesPreviousDoneSkipNextNextScore\\xa0ReportComment\\xa0Lab ValuesReferencesCalculatorReviewSolutionReview AllReview IncorrectHelpPausePausePauseEndPrintReturn\\xa0\\xa0\\xa0\\xa0\\xa0\\xa0= Marked\\xa0\\xa0\\xa0 \\xa0\\xa0\\xa0\\xa0\\xa0\\xa0= IncompleteGo to Question:Review AllReview IncompleteReview MarkedHelpPausePausePauseEnd'"
      ]
     },
     "execution_count": 379,
     "metadata": {},
     "output_type": "execute_result"
    }
   ],
   "source": [
    "soup.get_text().replace('\\n', \"\")"
   ]
  },
  {
   "cell_type": "code",
   "execution_count": 374,
   "id": "4c7d9cfd",
   "metadata": {},
   "outputs": [
    {
     "name": "stdout",
     "output_type": "stream",
     "text": [
      "https://www.starttest.com/ITDVersions/19.3.0.1/itdmedia.aspx?data=MjA4NDQ4NTQxMiwxOS4zLjAuMSwxNDI3NDc4OCwzMCwyMDA5LEVOVSxGNkUwRjg5Qy1EQTNBLTQ5ODMtOTVBNS02REU5MTA1QzFGRjAsLDMyLDAsMCwsLDIsMSxlZGdlLDA%3d-mFmYvXxRZjI%3d&cv=&programid=30&language=ENU&urid=NBMEFramelessReplacementUIv1/NBME_loadingAnimation.gif\n"
     ]
    }
   ],
   "source": [
    "img_list = driver.find_elements_by_tag_name('img')\n",
    "for a in img_list:\n",
    "    print(a.get_attribute('src'))"
   ]
  },
  {
   "cell_type": "code",
   "execution_count": 311,
   "id": "dd5c1ec8",
   "metadata": {},
   "outputs": [],
   "source": [
    "# get_url = driver.current_url\n",
    "\n",
    "# driver.get(get_url)"
   ]
  },
  {
   "cell_type": "code",
   "execution_count": 367,
   "id": "e69d516c",
   "metadata": {},
   "outputs": [],
   "source": [
    "content = driver.page_source"
   ]
  },
  {
   "cell_type": "code",
   "execution_count": 346,
   "id": "dd855b56",
   "metadata": {},
   "outputs": [],
   "source": [
    "iframe_body = driver.find_element_by_tag_name(\"iframe\")"
   ]
  },
  {
   "cell_type": "code",
   "execution_count": 347,
   "id": "90da9a80",
   "metadata": {},
   "outputs": [],
   "source": [
    "switched_iframe = driver.switch_to.frame(iframe_body)"
   ]
  },
  {
   "cell_type": "code",
   "execution_count": 348,
   "id": "1ed11e02",
   "metadata": {},
   "outputs": [],
   "source": [
    "switched_iframe"
   ]
  },
  {
   "cell_type": "code",
   "execution_count": 328,
   "id": "27cb3e5a",
   "metadata": {},
   "outputs": [],
   "source": [
    "a = driver.find_elements_by_css_selector('body')"
   ]
  },
  {
   "cell_type": "code",
   "execution_count": 329,
   "id": "18cefc98",
   "metadata": {},
   "outputs": [],
   "source": [
    "data = a[0].get_attribute('innerHTML')"
   ]
  },
  {
   "cell_type": "code",
   "execution_count": 368,
   "id": "b952def0",
   "metadata": {},
   "outputs": [],
   "source": [
    "soup = BeautifulSoup(content, features=\"html.parser\")"
   ]
  },
  {
   "cell_type": "code",
   "execution_count": 369,
   "id": "1c8d85b8",
   "metadata": {},
   "outputs": [],
   "source": [
    "img_list = driver.find_elements_by_tag_name('img')"
   ]
  },
  {
   "cell_type": "code",
   "execution_count": 370,
   "id": "d952a0a7",
   "metadata": {},
   "outputs": [
    {
     "name": "stdout",
     "output_type": "stream",
     "text": [
      "https://www.starttest.com/ITDVersions/19.3.0.1/itdmedia.aspx?data=MjA4NDQ4NTQxMiwxOS4zLjAuMSwxNDI3NDc4OCwzMCwyMDA5LEVOVSxGNkUwRjg5Qy1EQTNBLTQ5ODMtOTVBNS02REU5MTA1QzFGRjAsLDMyLDAsMCwsLDIsMSxlZGdlLDA%3d-mFmYvXxRZjI%3d&cv=&programid=30&language=ENU&urid=NBMEFramelessReplacementUIv1/NBME_loadingAnimation.gif\n"
     ]
    }
   ],
   "source": [
    "for a in img_list:\n",
    "    print(a.get_attribute('src'))"
   ]
  },
  {
   "cell_type": "code",
   "execution_count": 371,
   "id": "b2da3ac2",
   "metadata": {},
   "outputs": [
    {
     "data": {
      "text/plain": [
       "'\\n\\n\\n\\n\\n\\n\\n\\n\\n\\n\\n\\n\\n\\n\\n\\n\\n\\n\\n\\n\\n\\n\\n\\n\\n\\n\\n\\n\\n\\n\\n\\n\\n\\n\\n\\n\\n\\n\\n\\nComprehensive Basic Science Self-Assessment\\n\\nSkip to main\\nSkip to navigation\\n\\n\\n\\n\\n\\n\\n\\n\\nExam Section 1: Item 14 of 50\\n\\n\\n\\n\\nNational Board of Medical Examiners®\\n\\n\\n\\n\\n\\n\\nTime Remaining:\\n\\n\\n\\n\\n\\n\\n\\n\\n✓\\n\\nMark\\n\\n\\n\\n\\n\\n\\nComprehensive Basic Science Self-Assessment\\n\\n\\n\\n\\n\\n\\n\\n\\n\\n\\n\\n\\n\\n\\n\\n\\n\\n\\n\\n\\n\\n\\n\\n\\n\\n\\n\\n\\n\\n\\n\\n\\n\\n\\n\\n\\n\\n\\n\\n\\nEnd\\n\\n\\n\\n\\n\\n\\n\\n\\n\\n\\nEnd\\n\\n\\n\\n\\n\\n\\n\\n\\n\\n\\n\\nEnd Break\\n\\n\\n\\n\\n\\n\\n\\n\\n\\n\\n\\n\\nSkip Tutorial\\n\\n\\n\\n\\n\\n\\n\\n\\n\\n\\n\\nNo\\n\\n\\n\\n\\n\\n\\n\\n\\n\\n\\n\\nYes\\n\\n\\n\\n\\n\\n\\n\\n\\n\\n\\n\\nPrevious\\n\\n\\n\\n\\n\\n\\n\\n\\n\\n\\n\\n\\nDone\\n\\n\\n\\n\\n\\n\\n\\n\\n\\n\\n\\nSkip\\n\\n\\n\\n\\n\\n\\n\\n\\n\\n\\n\\nNext\\n\\n\\n\\n\\n\\n\\n\\n\\n\\n\\n\\nNext\\n\\n\\n\\n\\n\\n\\n\\n\\n\\n\\nScore\\xa0Report\\n\\n\\n\\n\\n\\n\\n\\n\\n\\n\\n\\n\\n\\n\\n\\nComment\\n\\n\\n\\n\\n\\n\\xa0\\n\\n\\n\\n\\n\\n\\n\\n\\n\\n\\n\\n\\n\\n\\n\\n\\n\\n\\n\\n\\n\\n\\n\\nLab Values\\n\\n\\n\\n\\n\\n\\n\\n\\n\\n\\n\\n\\n\\n\\n\\n\\n\\n\\nReferences\\n\\n\\n\\n\\n\\n\\n\\n\\n\\n\\n\\n\\n\\n\\n\\n\\n\\n\\n\\n\\n\\nCalculator\\n\\n\\n\\n\\n\\n\\n\\n\\n\\n\\n\\nReview\\n\\n\\n\\n\\n\\n\\n\\n\\n\\n\\n\\n\\nSolution\\n\\nReview All\\n\\nReview Incorrect\\n\\n\\n\\n\\n\\n\\n\\n\\n\\n\\n\\n\\nHelp\\n\\n\\n\\n\\n\\n\\n\\n\\n\\n\\n\\n\\nPause\\n\\n\\n\\n\\n\\n\\n\\n\\n\\n\\n\\n\\nPause\\n\\n\\n\\n\\n\\n\\n\\n\\n\\n\\n\\n\\nPause\\n\\n\\n\\n\\n\\n\\n\\n\\n\\n\\n\\nEnd\\n\\n\\n\\n\\n\\n\\n\\n\\n\\n\\n\\n\\n\\nPrint\\n\\n\\n\\n\\n\\n\\n\\n\\n\\n\\n\\nReturn\\n\\n\\n\\n\\n\\xa0\\xa0\\xa0\\xa0\\xa0\\xa0= Marked\\xa0\\xa0\\xa0 \\xa0\\xa0\\xa0\\xa0\\xa0\\xa0= Incomplete\\nGo to Question:\\n\\n\\n\\n\\n\\n\\n\\n\\n\\n\\n\\n\\n\\n\\n\\n\\n\\n\\n\\n\\n\\n\\n\\n\\n\\n\\n\\nReview All\\n\\n\\n\\n\\n\\n\\n\\n\\n\\n\\n\\n\\n\\n\\n\\n\\n\\n\\n\\n\\n\\n\\n\\n\\n\\n\\nReview Incomplete\\n\\n\\n\\n\\n\\n\\n\\n\\n\\n\\n\\n\\n\\n\\n\\n\\n\\n\\n\\n\\n\\n\\n\\n\\n\\n\\nReview Marked\\n\\n\\n\\n\\n\\n\\n\\n\\n\\n\\n\\n\\n\\n\\n\\n\\n\\n\\n\\n\\n\\n\\n\\n\\n\\n\\n\\n\\nHelp\\n\\n\\n\\n\\n\\n\\n\\n\\n\\n\\n\\n\\n\\n\\n\\n\\n\\n\\n\\n\\n\\n\\n\\n\\n\\n\\nPause\\n\\n\\n\\n\\n\\n\\n\\n\\n\\n\\n\\n\\n\\n\\n\\n\\n\\n\\n\\n\\n\\n\\n\\n\\n\\n\\nPause\\n\\n\\n\\n\\n\\n\\n\\n\\n\\n\\n\\n\\n\\n\\n\\n\\n\\n\\n\\n\\n\\n\\n\\n\\n\\n\\nPause\\n\\n\\n\\n\\n\\n\\n\\n\\n\\n\\n\\n\\n\\n\\n\\n\\n\\n\\n\\n\\n\\n\\n\\n\\n\\n\\nEnd\\n\\n\\n\\n\\n\\n\\n\\n\\n\\n\\n\\n\\n\\n\\n'"
      ]
     },
     "execution_count": 371,
     "metadata": {},
     "output_type": "execute_result"
    }
   ],
   "source": [
    "soup.get_text()"
   ]
  },
  {
   "cell_type": "code",
   "execution_count": 337,
   "id": "e07a7b0c",
   "metadata": {},
   "outputs": [
    {
     "ename": "NoSuchElementException",
     "evalue": "Message: no such element: Unable to locate element: {\"method\":\"css selector\",\"selector\":\"iframe\"}\n  (Session info: chrome=107.0.5304.110)\n",
     "output_type": "error",
     "traceback": [
      "\u001b[0;31m---------------------------------------------------------------------------\u001b[0m",
      "\u001b[0;31mNoSuchElementException\u001b[0m                    Traceback (most recent call last)",
      "Input \u001b[0;32mIn [337]\u001b[0m, in \u001b[0;36m<cell line: 1>\u001b[0;34m()\u001b[0m\n\u001b[0;32m----> 1\u001b[0m a \u001b[38;5;241m=\u001b[39m driver\u001b[38;5;241m.\u001b[39mswitch_to\u001b[38;5;241m.\u001b[39mframe(\u001b[43mdriver\u001b[49m\u001b[38;5;241;43m.\u001b[39;49m\u001b[43mfind_element_by_tag_name\u001b[49m\u001b[43m(\u001b[49m\u001b[38;5;124;43m\"\u001b[39;49m\u001b[38;5;124;43miframe\u001b[39;49m\u001b[38;5;124;43m\"\u001b[39;49m\u001b[43m)\u001b[49m)\n",
      "File \u001b[0;32m~/opt/anaconda3/envs/t2i/lib/python3.10/site-packages/selenium/webdriver/remote/webdriver.py:530\u001b[0m, in \u001b[0;36mWebDriver.find_element_by_tag_name\u001b[0;34m(self, name)\u001b[0m\n\u001b[1;32m    514\u001b[0m \u001b[38;5;28;01mdef\u001b[39;00m \u001b[38;5;21mfind_element_by_tag_name\u001b[39m(\u001b[38;5;28mself\u001b[39m, name):\n\u001b[1;32m    515\u001b[0m     \u001b[38;5;124;03m\"\"\"\u001b[39;00m\n\u001b[1;32m    516\u001b[0m \u001b[38;5;124;03m    Finds an element by tag name.\u001b[39;00m\n\u001b[1;32m    517\u001b[0m \n\u001b[0;32m   (...)\u001b[0m\n\u001b[1;32m    528\u001b[0m \u001b[38;5;124;03m        element = driver.find_element_by_tag_name('h1')\u001b[39;00m\n\u001b[1;32m    529\u001b[0m \u001b[38;5;124;03m    \"\"\"\u001b[39;00m\n\u001b[0;32m--> 530\u001b[0m     \u001b[38;5;28;01mreturn\u001b[39;00m \u001b[38;5;28;43mself\u001b[39;49m\u001b[38;5;241;43m.\u001b[39;49m\u001b[43mfind_element\u001b[49m\u001b[43m(\u001b[49m\u001b[43mby\u001b[49m\u001b[38;5;241;43m=\u001b[39;49m\u001b[43mBy\u001b[49m\u001b[38;5;241;43m.\u001b[39;49m\u001b[43mTAG_NAME\u001b[49m\u001b[43m,\u001b[49m\u001b[43m \u001b[49m\u001b[43mvalue\u001b[49m\u001b[38;5;241;43m=\u001b[39;49m\u001b[43mname\u001b[49m\u001b[43m)\u001b[49m\n",
      "File \u001b[0;32m~/opt/anaconda3/envs/t2i/lib/python3.10/site-packages/selenium/webdriver/remote/webdriver.py:976\u001b[0m, in \u001b[0;36mWebDriver.find_element\u001b[0;34m(self, by, value)\u001b[0m\n\u001b[1;32m    974\u001b[0m         by \u001b[38;5;241m=\u001b[39m By\u001b[38;5;241m.\u001b[39mCSS_SELECTOR\n\u001b[1;32m    975\u001b[0m         value \u001b[38;5;241m=\u001b[39m \u001b[38;5;124m'\u001b[39m\u001b[38;5;124m[name=\u001b[39m\u001b[38;5;124m\"\u001b[39m\u001b[38;5;132;01m%s\u001b[39;00m\u001b[38;5;124m\"\u001b[39m\u001b[38;5;124m]\u001b[39m\u001b[38;5;124m'\u001b[39m \u001b[38;5;241m%\u001b[39m value\n\u001b[0;32m--> 976\u001b[0m \u001b[38;5;28;01mreturn\u001b[39;00m \u001b[38;5;28;43mself\u001b[39;49m\u001b[38;5;241;43m.\u001b[39;49m\u001b[43mexecute\u001b[49m\u001b[43m(\u001b[49m\u001b[43mCommand\u001b[49m\u001b[38;5;241;43m.\u001b[39;49m\u001b[43mFIND_ELEMENT\u001b[49m\u001b[43m,\u001b[49m\u001b[43m \u001b[49m\u001b[43m{\u001b[49m\n\u001b[1;32m    977\u001b[0m \u001b[43m    \u001b[49m\u001b[38;5;124;43m'\u001b[39;49m\u001b[38;5;124;43musing\u001b[39;49m\u001b[38;5;124;43m'\u001b[39;49m\u001b[43m:\u001b[49m\u001b[43m \u001b[49m\u001b[43mby\u001b[49m\u001b[43m,\u001b[49m\n\u001b[1;32m    978\u001b[0m \u001b[43m    \u001b[49m\u001b[38;5;124;43m'\u001b[39;49m\u001b[38;5;124;43mvalue\u001b[39;49m\u001b[38;5;124;43m'\u001b[39;49m\u001b[43m:\u001b[49m\u001b[43m \u001b[49m\u001b[43mvalue\u001b[49m\u001b[43m}\u001b[49m\u001b[43m)\u001b[49m[\u001b[38;5;124m'\u001b[39m\u001b[38;5;124mvalue\u001b[39m\u001b[38;5;124m'\u001b[39m]\n",
      "File \u001b[0;32m~/opt/anaconda3/envs/t2i/lib/python3.10/site-packages/selenium/webdriver/remote/webdriver.py:321\u001b[0m, in \u001b[0;36mWebDriver.execute\u001b[0;34m(self, driver_command, params)\u001b[0m\n\u001b[1;32m    319\u001b[0m response \u001b[38;5;241m=\u001b[39m \u001b[38;5;28mself\u001b[39m\u001b[38;5;241m.\u001b[39mcommand_executor\u001b[38;5;241m.\u001b[39mexecute(driver_command, params)\n\u001b[1;32m    320\u001b[0m \u001b[38;5;28;01mif\u001b[39;00m response:\n\u001b[0;32m--> 321\u001b[0m     \u001b[38;5;28;43mself\u001b[39;49m\u001b[38;5;241;43m.\u001b[39;49m\u001b[43merror_handler\u001b[49m\u001b[38;5;241;43m.\u001b[39;49m\u001b[43mcheck_response\u001b[49m\u001b[43m(\u001b[49m\u001b[43mresponse\u001b[49m\u001b[43m)\u001b[49m\n\u001b[1;32m    322\u001b[0m     response[\u001b[38;5;124m'\u001b[39m\u001b[38;5;124mvalue\u001b[39m\u001b[38;5;124m'\u001b[39m] \u001b[38;5;241m=\u001b[39m \u001b[38;5;28mself\u001b[39m\u001b[38;5;241m.\u001b[39m_unwrap_value(\n\u001b[1;32m    323\u001b[0m         response\u001b[38;5;241m.\u001b[39mget(\u001b[38;5;124m'\u001b[39m\u001b[38;5;124mvalue\u001b[39m\u001b[38;5;124m'\u001b[39m, \u001b[38;5;28;01mNone\u001b[39;00m))\n\u001b[1;32m    324\u001b[0m     \u001b[38;5;28;01mreturn\u001b[39;00m response\n",
      "File \u001b[0;32m~/opt/anaconda3/envs/t2i/lib/python3.10/site-packages/selenium/webdriver/remote/errorhandler.py:242\u001b[0m, in \u001b[0;36mErrorHandler.check_response\u001b[0;34m(self, response)\u001b[0m\n\u001b[1;32m    240\u001b[0m         alert_text \u001b[38;5;241m=\u001b[39m value[\u001b[38;5;124m'\u001b[39m\u001b[38;5;124malert\u001b[39m\u001b[38;5;124m'\u001b[39m]\u001b[38;5;241m.\u001b[39mget(\u001b[38;5;124m'\u001b[39m\u001b[38;5;124mtext\u001b[39m\u001b[38;5;124m'\u001b[39m)\n\u001b[1;32m    241\u001b[0m     \u001b[38;5;28;01mraise\u001b[39;00m exception_class(message, screen, stacktrace, alert_text)\n\u001b[0;32m--> 242\u001b[0m \u001b[38;5;28;01mraise\u001b[39;00m exception_class(message, screen, stacktrace)\n",
      "\u001b[0;31mNoSuchElementException\u001b[0m: Message: no such element: Unable to locate element: {\"method\":\"css selector\",\"selector\":\"iframe\"}\n  (Session info: chrome=107.0.5304.110)\n"
     ]
    }
   ],
   "source": [
    "a = driver.switch_to.frame(driver.find_element_by_tag_name(\"iframe\"))"
   ]
  },
  {
   "cell_type": "code",
   "execution_count": 336,
   "id": "70be9179",
   "metadata": {},
   "outputs": [],
   "source": [
    "a"
   ]
  },
  {
   "cell_type": "code",
   "execution_count": 335,
   "id": "d8321da8",
   "metadata": {},
   "outputs": [
    {
     "ename": "AttributeError",
     "evalue": "'NoneType' object has no attribute 'find_elements_by_css_selector'",
     "output_type": "error",
     "traceback": [
      "\u001b[0;31m---------------------------------------------------------------------------\u001b[0m",
      "\u001b[0;31mAttributeError\u001b[0m                            Traceback (most recent call last)",
      "Input \u001b[0;32mIn [335]\u001b[0m, in \u001b[0;36m<cell line: 1>\u001b[0;34m()\u001b[0m\n\u001b[0;32m----> 1\u001b[0m a \u001b[38;5;241m=\u001b[39m \u001b[43ma\u001b[49m\u001b[38;5;241;43m.\u001b[39;49m\u001b[43mfind_elements_by_css_selector\u001b[49m(\u001b[38;5;124m'\u001b[39m\u001b[38;5;124mbody\u001b[39m\u001b[38;5;124m'\u001b[39m)\n\u001b[1;32m      2\u001b[0m data \u001b[38;5;241m=\u001b[39m a[\u001b[38;5;241m0\u001b[39m]\u001b[38;5;241m.\u001b[39mget_attribute(\u001b[38;5;124m'\u001b[39m\u001b[38;5;124minnerHTML\u001b[39m\u001b[38;5;124m'\u001b[39m)\n",
      "\u001b[0;31mAttributeError\u001b[0m: 'NoneType' object has no attribute 'find_elements_by_css_selector'"
     ]
    }
   ],
   "source": [
    "a = a.find_elements_by_css_selector('body')\n",
    "data = a[0].get_attribute('innerHTML')"
   ]
  },
  {
   "cell_type": "code",
   "execution_count": 315,
   "id": "73ecc6c6",
   "metadata": {},
   "outputs": [
    {
     "data": {
      "text/plain": [
       "'Comprehensive Basic Science Self-Assessment'"
      ]
     },
     "execution_count": 315,
     "metadata": {},
     "output_type": "execute_result"
    }
   ],
   "source": [
    "itd.aspx?cmd=item&data=MjA4NDQ4NTQxMiwxOS4zLjAuMSwxNDI3NDc4OCwzMCwyMDA5LEVOVSxGNkUwRjg5Qy1EQTNBLTQ5ODMtOTVBNS02REU5MTA1QzFGRjAsLDMyLDAsMCwsLDIsMSxlZGdlLDA%3d-mFmYvXxRZjI%3d&language=ENU"
   ]
  },
  {
   "cell_type": "code",
   "execution_count": 326,
   "id": "fe16ace2",
   "metadata": {},
   "outputs": [
    {
     "ename": "TimeoutException",
     "evalue": "Message: \n",
     "output_type": "error",
     "traceback": [
      "\u001b[0;31m---------------------------------------------------------------------------\u001b[0m",
      "\u001b[0;31mTimeoutException\u001b[0m                          Traceback (most recent call last)",
      "Input \u001b[0;32mIn [326]\u001b[0m, in \u001b[0;36m<cell line: 4>\u001b[0;34m()\u001b[0m\n\u001b[1;32m      1\u001b[0m \u001b[38;5;28;01mfrom\u001b[39;00m \u001b[38;5;21;01mselenium\u001b[39;00m\u001b[38;5;21;01m.\u001b[39;00m\u001b[38;5;21;01mwebdriver\u001b[39;00m\u001b[38;5;21;01m.\u001b[39;00m\u001b[38;5;21;01msupport\u001b[39;00m\u001b[38;5;21;01m.\u001b[39;00m\u001b[38;5;21;01mui\u001b[39;00m \u001b[38;5;28;01mimport\u001b[39;00m WebDriverWait\n\u001b[1;32m      2\u001b[0m \u001b[38;5;28;01mfrom\u001b[39;00m \u001b[38;5;21;01mselenium\u001b[39;00m\u001b[38;5;21;01m.\u001b[39;00m\u001b[38;5;21;01mwebdriver\u001b[39;00m\u001b[38;5;21;01m.\u001b[39;00m\u001b[38;5;21;01msupport\u001b[39;00m \u001b[38;5;28;01mimport\u001b[39;00m expected_conditions \u001b[38;5;28;01mas\u001b[39;00m EC\n\u001b[0;32m----> 4\u001b[0m a \u001b[38;5;241m=\u001b[39m \u001b[43mWebDriverWait\u001b[49m\u001b[43m(\u001b[49m\u001b[43mdriver\u001b[49m\u001b[43m,\u001b[49m\u001b[43m \u001b[49m\u001b[38;5;241;43m30\u001b[39;49m\u001b[43m)\u001b[49m\u001b[38;5;241;43m.\u001b[39;49m\u001b[43muntil\u001b[49m\u001b[43m(\u001b[49m\u001b[43mEC\u001b[49m\u001b[38;5;241;43m.\u001b[39;49m\u001b[43mpresence_of_element_located\u001b[49m\u001b[43m(\u001b[49m\u001b[43m(\u001b[49m\u001b[43mBy\u001b[49m\u001b[38;5;241;43m.\u001b[39;49m\u001b[43mXPATH\u001b[49m\u001b[43m,\u001b[49m\u001b[43m \u001b[49m\u001b[38;5;124;43m'\u001b[39;49m\u001b[38;5;124;43m//*[@id=\u001b[39;49m\u001b[38;5;124;43m\"\u001b[39;49m\u001b[38;5;124;43mITD-ITEM\u001b[39;49m\u001b[38;5;124;43m\"\u001b[39;49m\u001b[38;5;124;43m]\u001b[39;49m\u001b[38;5;124;43m'\u001b[39;49m\u001b[43m)\u001b[49m\u001b[43m)\u001b[49m\u001b[43m)\u001b[49m\n",
      "File \u001b[0;32m~/opt/anaconda3/envs/t2i/lib/python3.10/site-packages/selenium/webdriver/support/wait.py:80\u001b[0m, in \u001b[0;36mWebDriverWait.until\u001b[0;34m(self, method, message)\u001b[0m\n\u001b[1;32m     78\u001b[0m     \u001b[38;5;28;01mif\u001b[39;00m time\u001b[38;5;241m.\u001b[39mtime() \u001b[38;5;241m>\u001b[39m end_time:\n\u001b[1;32m     79\u001b[0m         \u001b[38;5;28;01mbreak\u001b[39;00m\n\u001b[0;32m---> 80\u001b[0m \u001b[38;5;28;01mraise\u001b[39;00m TimeoutException(message, screen, stacktrace)\n",
      "\u001b[0;31mTimeoutException\u001b[0m: Message: \n"
     ]
    }
   ],
   "source": [
    "from selenium.webdriver.support.ui import WebDriverWait\n",
    "from selenium.webdriver.support import expected_conditions as EC\n",
    "\n",
    "a = WebDriverWait(driver, 30).until(EC.presence_of_element_located((By.XPATH, '//*[@id=\"ITD-ITEM\"]')))"
   ]
  },
  {
   "cell_type": "code",
   "execution_count": 325,
   "id": "db17d1e7",
   "metadata": {},
   "outputs": [
    {
     "data": {
      "text/plain": [
       "'Exam Section 1: Item 9 of 50\\nNational Board of Medical Examiners®\\n\\nComprehensive Basic Science Self-Assessment\\nPrevious\\nNext\\nScore Report\\nLab Values\\nCalculator\\nHelp\\nPause'"
      ]
     },
     "execution_count": 325,
     "metadata": {},
     "output_type": "execute_result"
    }
   ],
   "source": [
    "a.text"
   ]
  },
  {
   "cell_type": "code",
   "execution_count": 304,
   "id": "986537dc",
   "metadata": {
    "scrolled": true
   },
   "outputs": [],
   "source": [
    "from selenium.webdriver.common.by import By\n",
    "\n",
    "login_form = driver.find_elements(By.ID, 'ITD-ITEM')"
   ]
  },
  {
   "cell_type": "code",
   "execution_count": 305,
   "id": "ccd1fe39",
   "metadata": {},
   "outputs": [
    {
     "data": {
      "text/plain": [
       "[]"
      ]
     },
     "execution_count": 305,
     "metadata": {},
     "output_type": "execute_result"
    }
   ],
   "source": [
    "login_form"
   ]
  },
  {
   "cell_type": "code",
   "execution_count": 282,
   "id": "177d4e43",
   "metadata": {},
   "outputs": [
    {
     "data": {
      "text/plain": [
       "'Exam Section 1: Item 7 of 50\\nNational Board of Medical Examiners®\\n\\nComprehensive Basic Science Self-Assessment\\nPrevious\\nNext\\nScore Report\\nLab Values\\nCalculator\\nHelp\\nPause'"
      ]
     },
     "execution_count": 282,
     "metadata": {},
     "output_type": "execute_result"
    }
   ],
   "source": [
    "body.text"
   ]
  },
  {
   "cell_type": "code",
   "execution_count": 269,
   "id": "af704d7e",
   "metadata": {},
   "outputs": [],
   "source": [
    "# Text('Correct Answer').value"
   ]
  },
  {
   "cell_type": "code",
   "execution_count": 313,
   "id": "47781900",
   "metadata": {},
   "outputs": [],
   "source": [
    "soup = BeautifulSoup(content, features=\"html.parser\")"
   ]
  },
  {
   "cell_type": "code",
   "execution_count": 314,
   "id": "85291922",
   "metadata": {},
   "outputs": [
    {
     "data": {
      "text/plain": [
       "'\\n\\n\\n\\n\\n\\n\\n\\n\\n\\n\\n\\n\\n\\n\\n\\n\\n\\n\\n\\n\\n\\n\\n\\n\\n\\n\\n\\n\\n\\n\\n\\n\\n\\n\\n\\n\\n\\n\\n\\nComprehensive Basic Science Self-Assessment\\n\\nSkip to main\\nSkip to navigation\\n\\n\\n\\n\\n\\n\\n\\n\\nExam Section 1: Item 9 of 50\\n\\n\\n\\n\\nNational Board of Medical Examiners®\\n\\n\\n\\n\\n\\n\\nTime Remaining:\\n\\n\\n\\n\\n\\n\\n\\n\\n✓\\n\\nMark\\n\\n\\n\\n\\n\\n\\nComprehensive Basic Science Self-Assessment\\n\\n\\n\\n\\n\\n\\n\\n\\n\\n\\n\\n\\n\\n\\n\\n\\n\\n\\n\\n\\n\\n\\n\\n\\n\\n\\n\\n\\n\\n\\n\\n\\n\\n\\n\\n\\n\\n\\n\\n\\nEnd\\n\\n\\n\\n\\n\\n\\n\\n\\n\\n\\nEnd\\n\\n\\n\\n\\n\\n\\n\\n\\n\\n\\n\\nEnd Break\\n\\n\\n\\n\\n\\n\\n\\n\\n\\n\\n\\n\\nSkip Tutorial\\n\\n\\n\\n\\n\\n\\n\\n\\n\\n\\n\\nNo\\n\\n\\n\\n\\n\\n\\n\\n\\n\\n\\n\\nYes\\n\\n\\n\\n\\n\\n\\n\\n\\n\\n\\n\\nPrevious\\n\\n\\n\\n\\n\\n\\n\\n\\n\\n\\n\\n\\nDone\\n\\n\\n\\n\\n\\n\\n\\n\\n\\n\\n\\nSkip\\n\\n\\n\\n\\n\\n\\n\\n\\n\\n\\n\\nNext\\n\\n\\n\\n\\n\\n\\n\\n\\n\\n\\n\\nNext\\n\\n\\n\\n\\n\\n\\n\\n\\n\\n\\nScore\\xa0Report\\n\\n\\n\\n\\n\\n\\n\\n\\n\\n\\n\\n\\n\\n\\n\\nComment\\n\\n\\n\\n\\n\\n\\xa0\\n\\n\\n\\n\\n\\n\\n\\n\\n\\n\\n\\n\\n\\n\\n\\n\\n\\n\\n\\n\\n\\n\\n\\nLab Values\\n\\n\\n\\n\\n\\n\\n\\n\\n\\n\\n\\n\\n\\n\\n\\n\\n\\n\\nReferences\\n\\n\\n\\n\\n\\n\\n\\n\\n\\n\\n\\n\\n\\n\\n\\n\\n\\n\\n\\n\\n\\nCalculator\\n\\n\\n\\n\\n\\n\\n\\n\\n\\n\\n\\nReview\\n\\n\\n\\n\\n\\n\\n\\n\\n\\n\\n\\n\\nSolution\\n\\nReview All\\n\\nReview Incorrect\\n\\n\\n\\n\\n\\n\\n\\n\\n\\n\\n\\n\\nHelp\\n\\n\\n\\n\\n\\n\\n\\n\\n\\n\\n\\n\\nPause\\n\\n\\n\\n\\n\\n\\n\\n\\n\\n\\n\\n\\nPause\\n\\n\\n\\n\\n\\n\\n\\n\\n\\n\\n\\n\\nPause\\n\\n\\n\\n\\n\\n\\n\\n\\n\\n\\n\\nEnd\\n\\n\\n\\n\\n\\n\\n\\n\\n\\n\\n\\n\\n\\nPrint\\n\\n\\n\\n\\n\\n\\n\\n\\n\\n\\n\\nReturn\\n\\n\\n\\n\\n\\xa0\\xa0\\xa0\\xa0\\xa0\\xa0= Marked\\xa0\\xa0\\xa0 \\xa0\\xa0\\xa0\\xa0\\xa0\\xa0= Incomplete\\nGo to Question:\\n\\n\\n\\n\\n\\n\\n\\n\\n\\n\\n\\n\\n\\n\\n\\n\\n\\n\\n\\n\\n\\n\\n\\n\\n\\n\\n\\nReview All\\n\\n\\n\\n\\n\\n\\n\\n\\n\\n\\n\\n\\n\\n\\n\\n\\n\\n\\n\\n\\n\\n\\n\\n\\n\\n\\nReview Incomplete\\n\\n\\n\\n\\n\\n\\n\\n\\n\\n\\n\\n\\n\\n\\n\\n\\n\\n\\n\\n\\n\\n\\n\\n\\n\\n\\nReview Marked\\n\\n\\n\\n\\n\\n\\n\\n\\n\\n\\n\\n\\n\\n\\n\\n\\n\\n\\n\\n\\n\\n\\n\\n\\n\\n\\n\\n\\nHelp\\n\\n\\n\\n\\n\\n\\n\\n\\n\\n\\n\\n\\n\\n\\n\\n\\n\\n\\n\\n\\n\\n\\n\\n\\n\\n\\nPause\\n\\n\\n\\n\\n\\n\\n\\n\\n\\n\\n\\n\\n\\n\\n\\n\\n\\n\\n\\n\\n\\n\\n\\n\\n\\n\\nPause\\n\\n\\n\\n\\n\\n\\n\\n\\n\\n\\n\\n\\n\\n\\n\\n\\n\\n\\n\\n\\n\\n\\n\\n\\n\\n\\nPause\\n\\n\\n\\n\\n\\n\\n\\n\\n\\n\\n\\n\\n\\n\\n\\n\\n\\n\\n\\n\\n\\n\\n\\n\\n\\n\\nEnd\\n\\n\\n\\n\\n\\n\\n\\n\\n\\n\\n\\n\\n\\n\\n'"
      ]
     },
     "execution_count": 314,
     "metadata": {},
     "output_type": "execute_result"
    }
   ],
   "source": [
    "soup.get_text()"
   ]
  },
  {
   "cell_type": "code",
   "execution_count": 272,
   "id": "9d544c63",
   "metadata": {
    "scrolled": false
   },
   "outputs": [],
   "source": [
    "# soup.get_text()"
   ]
  },
  {
   "cell_type": "code",
   "execution_count": 273,
   "id": "6b9bdb2d",
   "metadata": {},
   "outputs": [],
   "source": [
    "# Text('Failure of normal').value"
   ]
  },
  {
   "cell_type": "code",
   "execution_count": 274,
   "id": "f918a197",
   "metadata": {},
   "outputs": [
    {
     "ename": "IndexError",
     "evalue": "list index out of range",
     "output_type": "error",
     "traceback": [
      "\u001b[0;31m---------------------------------------------------------------------------\u001b[0m",
      "\u001b[0;31mIndexError\u001b[0m                                Traceback (most recent call last)",
      "Input \u001b[0;32mIn [274]\u001b[0m, in \u001b[0;36m<cell line: 3>\u001b[0;34m()\u001b[0m\n\u001b[1;32m      1\u001b[0m processed_text \u001b[38;5;241m=\u001b[39m soup\u001b[38;5;241m.\u001b[39mget_text()\u001b[38;5;241m.\u001b[39msplit(\u001b[38;5;124m'\u001b[39m\u001b[38;5;124mCorrect Answer:\u001b[39m\u001b[38;5;124m'\u001b[39m)\n\u001b[1;32m      2\u001b[0m question \u001b[38;5;241m=\u001b[39m [a \u001b[38;5;28;01mfor\u001b[39;00m a \u001b[38;5;129;01min\u001b[39;00m processed_text[\u001b[38;5;241m0\u001b[39m]\u001b[38;5;241m.\u001b[39msplit(\u001b[38;5;124m'\u001b[39m\u001b[38;5;130;01m\\n\u001b[39;00m\u001b[38;5;124m'\u001b[39m) \u001b[38;5;28;01mif\u001b[39;00m a\u001b[38;5;241m!=\u001b[39m\u001b[38;5;124m'\u001b[39m\u001b[38;5;124m'\u001b[39m]\n\u001b[0;32m----> 3\u001b[0m ans \u001b[38;5;241m=\u001b[39m [a \u001b[38;5;28;01mfor\u001b[39;00m a \u001b[38;5;129;01min\u001b[39;00m \u001b[43mprocessed_text\u001b[49m\u001b[43m[\u001b[49m\u001b[38;5;241;43m1\u001b[39;49m\u001b[43m]\u001b[49m\u001b[38;5;241m.\u001b[39msplit(\u001b[38;5;124m'\u001b[39m\u001b[38;5;130;01m\\n\u001b[39;00m\u001b[38;5;124m'\u001b[39m) \u001b[38;5;28;01mif\u001b[39;00m a\u001b[38;5;241m!=\u001b[39m\u001b[38;5;124m'\u001b[39m\u001b[38;5;124m'\u001b[39m]\n",
      "\u001b[0;31mIndexError\u001b[0m: list index out of range"
     ]
    }
   ],
   "source": [
    "processed_text = soup.get_text().split('Correct Answer:')\n",
    "question = [a for a in processed_text[0].split('\\n') if a!='']\n",
    "ans = [a for a in processed_text[1].split('\\n') if a!='']"
   ]
  },
  {
   "cell_type": "code",
   "execution_count": 264,
   "id": "478c6043",
   "metadata": {},
   "outputs": [],
   "source": [
    "unwanted_items = ['A', ')\\xa0', 'Strikeout option A', \n",
    "                 'Un-strikeout A option', \n",
    "                  'B',\n",
    " ')\\xa0',\n",
    " 'Option is eliminated.',\n",
    " 'Strikeout option B',\n",
    " 'Un-strikeout B option',\n",
    " 'C',\n",
    " ')\\xa0',\n",
    " 'Strikeout option C',\n",
    " 'Un-strikeout C option',\n",
    " 'D',\n",
    " ')\\xa0',\n",
    " 'Hemophilia A',\n",
    " 'Strikeout option D',\n",
    " 'Un-strikeout D option',\n",
    " 'E',\n",
    " ')\\xa0',\n",
    " 'Strikeout option E',\n",
    " 'Un-strikeout E option',\n",
    " 'F',\n",
    " ')\\xa0',\n",
    " 'Option is eliminated.',\n",
    " 'Strikeout option F',\n",
    " 'Un-strikeout F option',\n",
    " 'G',\n",
    " ')\\xa0',\n",
    " '\\t\\t\\t\\t\\t\\t',\n",
    " '\\t\\t\\t\\t\\t',\n",
    " 'Rationale:',\n",
    " 'Correct Answer: E.',]"
   ]
  },
  {
   "cell_type": "code",
   "execution_count": 265,
   "id": "642c9d5d",
   "metadata": {},
   "outputs": [
    {
     "name": "stdout",
     "output_type": "stream",
     "text": [
      "An 8-year-old boy continues to bleed excessively after tooth extraction. Prothrombin time, bleeding time, and platelet count are within the reference range. Partial thromboplastin time is prolonged but corrects after addition to the assay chamber of plasma from a patient with hemophilia A. Which of the following is the most likely diagnosis?\n",
      "Acute disseminated intravascular coagulation\n",
      "Factor V (proaccelerin) deficiency\n",
      "Factor VII (proconvertin) deficiency\n",
      "Hemophilia B\n",
      "Immune thrombocytopenic purpura\n",
      "von Willebrand disease\n"
     ]
    }
   ],
   "source": [
    "for a in question[2:]:\n",
    "    if a not in unwanted_items:\n",
    "        print(a)"
   ]
  },
  {
   "cell_type": "code",
   "execution_count": 44,
   "id": "115ddf9d",
   "metadata": {},
   "outputs": [],
   "source": [
    "ans_list = []\n",
    "question_list = []\n",
    "for a in ans[2:]:\n",
    "    if a.startswith('Correct Answer'):\n",
    "        ans_list = ans\n",
    "        break\n",
    "    :\n",
    "        question_list.append(a)"
   ]
  },
  {
   "cell_type": "code",
   "execution_count": 45,
   "id": "be65f0d3",
   "metadata": {},
   "outputs": [
    {
     "data": {
      "text/plain": [
       "['An 8-year-old boy continues to bleed excessively after tooth extraction. Prothrombin time, bleeding time, and platelet count are within the reference range. Partial thromboplastin time is prolonged but corrects after addition to the assay chamber of plasma from a patient with hemophilia A. Which of the following is the most likely diagnosis?',\n",
       " 'A',\n",
       " ')\\xa0',\n",
       " 'Acute disseminated intravascular coagulation',\n",
       " 'Strikeout option A',\n",
       " 'Un-strikeout A option',\n",
       " 'B',\n",
       " ')\\xa0',\n",
       " 'Option is eliminated.',\n",
       " 'Factor V (proaccelerin) deficiency',\n",
       " 'Strikeout option B',\n",
       " 'Un-strikeout B option',\n",
       " 'C',\n",
       " ')\\xa0',\n",
       " 'Factor VII (proconvertin) deficiency',\n",
       " 'Strikeout option C',\n",
       " 'Un-strikeout C option',\n",
       " 'D',\n",
       " ')\\xa0',\n",
       " 'Hemophilia A',\n",
       " 'Strikeout option D',\n",
       " 'Un-strikeout D option',\n",
       " 'E',\n",
       " ')\\xa0',\n",
       " 'Hemophilia B',\n",
       " 'Strikeout option E',\n",
       " 'Un-strikeout E option',\n",
       " 'F',\n",
       " ')\\xa0',\n",
       " 'Option is eliminated.',\n",
       " 'Immune thrombocytopenic purpura',\n",
       " 'Strikeout option F',\n",
       " 'Un-strikeout F option',\n",
       " 'G',\n",
       " ')\\xa0',\n",
       " 'von Willebrand disease',\n",
       " '\\t\\t\\t\\t\\t\\t',\n",
       " '\\t\\t\\t\\t\\t',\n",
       " 'Rationale:']"
      ]
     },
     "execution_count": 45,
     "metadata": {},
     "output_type": "execute_result"
    }
   ],
   "source": [
    "question_list"
   ]
  },
  {
   "cell_type": "code",
   "execution_count": null,
   "id": "9f973425",
   "metadata": {},
   "outputs": [],
   "source": []
  }
 ],
 "metadata": {
  "kernelspec": {
   "display_name": "Python 3 (ipykernel)",
   "language": "python",
   "name": "python3"
  },
  "language_info": {
   "codemirror_mode": {
    "name": "ipython",
    "version": 3
   },
   "file_extension": ".py",
   "mimetype": "text/x-python",
   "name": "python",
   "nbconvert_exporter": "python",
   "pygments_lexer": "ipython3",
   "version": "3.10.0"
  }
 },
 "nbformat": 4,
 "nbformat_minor": 5
}
