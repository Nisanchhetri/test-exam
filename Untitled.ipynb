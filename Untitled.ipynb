{
 "cells": [
  {
   "cell_type": "markdown",
   "id": "11581a18",
   "metadata": {},
   "source": [
    "### Two sum problem"
   ]
  },
  {
   "cell_type": "code",
   "execution_count": 11,
   "id": "c93d7e92",
   "metadata": {},
   "outputs": [],
   "source": [
    "nums = [1, 2, 3, 4, 5, 6, 7, 8, 9]\n",
    "nums = [i*10 for i in nums]\n",
    "target = 170"
   ]
  },
  {
   "cell_type": "code",
   "execution_count": 12,
   "id": "64a596a4",
   "metadata": {},
   "outputs": [],
   "source": [
    "hash_table = {}\n",
    "for i in range(len(nums)):\n",
    "    hash_table[nums[i]] = i"
   ]
  },
  {
   "cell_type": "code",
   "execution_count": 13,
   "id": "ab55269b",
   "metadata": {},
   "outputs": [
    {
     "data": {
      "text/plain": [
       "{10: 0, 20: 1, 30: 2, 40: 3, 50: 4, 60: 5, 70: 6, 80: 7, 90: 8}"
      ]
     },
     "execution_count": 13,
     "metadata": {},
     "output_type": "execute_result"
    }
   ],
   "source": [
    "hash_table"
   ]
  },
  {
   "cell_type": "code",
   "execution_count": 15,
   "id": "90980cf5",
   "metadata": {},
   "outputs": [
    {
     "name": "stdout",
     "output_type": "stream",
     "text": [
      "90 80\n",
      "80 90\n"
     ]
    }
   ],
   "source": [
    "for i in range(len(nums)):\n",
    "    comp = target - nums[i]\n",
    "    if comp in hash_table:\n",
    "        print(comp, nums[i])"
   ]
  },
  {
   "cell_type": "code",
   "execution_count": 18,
   "id": "edd80233",
   "metadata": {},
   "outputs": [],
   "source": [
    "if 81 in hash_table:\n",
    "    print(80)"
   ]
  },
  {
   "cell_type": "markdown",
   "id": "64e235a1",
   "metadata": {},
   "source": [
    "### Another problem"
   ]
  },
  {
   "cell_type": "code",
   "execution_count": null,
   "id": "5128e565",
   "metadata": {},
   "outputs": [],
   "source": []
  }
 ],
 "metadata": {
  "kernelspec": {
   "display_name": "Python 3 (ipykernel)",
   "language": "python",
   "name": "python3"
  },
  "language_info": {
   "codemirror_mode": {
    "name": "ipython",
    "version": 3
   },
   "file_extension": ".py",
   "mimetype": "text/x-python",
   "name": "python",
   "nbconvert_exporter": "python",
   "pygments_lexer": "ipython3",
   "version": "3.10.0"
  }
 },
 "nbformat": 4,
 "nbformat_minor": 5
}
